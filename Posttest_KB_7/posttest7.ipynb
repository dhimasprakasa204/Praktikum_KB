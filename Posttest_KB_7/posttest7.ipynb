{
 "cells": [
  {
   "cell_type": "markdown",
   "id": "3cb05d98",
   "metadata": {},
   "source": [
    "# DHIMAS PRAKASA HENJO\n",
    "# 2009106015\n",
    "# INFORMATIKA A 2020\n",
    "# POSTTEST 7 KB"
   ]
  },
  {
   "cell_type": "code",
   "execution_count": 1,
   "id": "81e49af9",
   "metadata": {},
   "outputs": [],
   "source": [
    "import tensorflow as tf"
   ]
  },
  {
   "cell_type": "markdown",
   "id": "82c4c2b4",
   "metadata": {},
   "source": [
    "# Buat Tensor (5,5) dengan nilai Random"
   ]
  },
  {
   "cell_type": "code",
   "execution_count": 3,
   "id": "db6a26ba",
   "metadata": {},
   "outputs": [
    {
     "data": {
      "text/plain": [
       "array([[2.7853203, 3.1727605, 4.0737214, 4.0042787, 5.515864 ],\n",
       "       [3.5802815, 4.410799 , 3.5650263, 3.7192261, 5.1402564],\n",
       "       [4.327792 , 3.7090602, 3.0082564, 4.6721525, 3.7930858],\n",
       "       [4.0673776, 3.2676263, 3.5292053, 2.8603806, 3.135638 ],\n",
       "       [4.207446 , 4.9217577, 3.3506227, 6.157668 , 4.0930696]],\n",
       "      dtype=float32)"
      ]
     },
     "execution_count": 3,
     "metadata": {},
     "output_type": "execute_result"
    }
   ],
   "source": [
    "random_tensor = tf.Variable(tf.random.normal([5,5], mean=4, stddev=1, dtype=tf.float32))\n",
    "random_tensor.read_value().numpy()"
   ]
  },
  {
   "cell_type": "code",
   "execution_count": 5,
   "id": "1a301b69",
   "metadata": {},
   "outputs": [],
   "source": [
    "list = [[16,18,25,34,65],[22,34,38,58,62],[15,32,73,12,43],[71,52,63,53,95],[10,24,73,46,49]]\n",
    "prime_tensor = tf.convert_to_tensor(list, dtype=tf.int64).numpy()"
   ]
  },
  {
   "cell_type": "code",
   "execution_count": 6,
   "id": "09174596",
   "metadata": {},
   "outputs": [
    {
     "name": "stdout",
     "output_type": "stream",
     "text": [
      "Berikut ini adalah tampilan dimensi dari random tensor\n",
      "[[2.7853203 3.1727605 4.0737214 4.0042787 5.515864 ]\n",
      " [3.5802815 4.410799  3.5650263 3.7192261 5.1402564]\n",
      " [4.327792  3.7090602 3.0082564 4.6721525 3.7930858]\n",
      " [4.0673776 3.2676263 3.5292053 2.8603806 3.135638 ]\n",
      " [4.207446  4.9217577 3.3506227 6.157668  4.0930696]]\n",
      "\n",
      "Berikut ini adalah tampilan dimensi dari prime tensor\n",
      "[[16 18 25 34 65]\n",
      " [22 34 38 58 62]\n",
      " [15 32 73 12 43]\n",
      " [71 52 63 53 95]\n",
      " [10 24 73 46 49]]\n"
     ]
    }
   ],
   "source": [
    "print(\"Berikut ini adalah tampilan dimensi dari random tensor\")\n",
    "print(random_tensor.read_value().numpy())\n",
    "\n",
    "print(\"\\nBerikut ini adalah tampilan dimensi dari prime tensor\")\n",
    "print(prime_tensor)"
   ]
  },
  {
   "cell_type": "markdown",
   "id": "b5834f49",
   "metadata": {},
   "source": [
    "## Penjumlahan"
   ]
  },
  {
   "cell_type": "code",
   "execution_count": 7,
   "id": "5b1c6fcf",
   "metadata": {},
   "outputs": [
    {
     "data": {
      "text/plain": [
       "<tf.Tensor: shape=(5, 5), dtype=float32, numpy=\n",
       "array([[18.78532 , 21.17276 , 29.07372 , 38.00428 , 70.51586 ],\n",
       "       [25.580282, 38.410797, 41.565025, 61.719227, 67.14026 ],\n",
       "       [19.327793, 35.70906 , 76.008255, 16.672153, 46.793087],\n",
       "       [75.067375, 55.267628, 66.529205, 55.860382, 98.135635],\n",
       "       [14.207446, 28.921757, 76.350624, 52.15767 , 53.09307 ]],\n",
       "      dtype=float32)>"
      ]
     },
     "execution_count": 7,
     "metadata": {},
     "output_type": "execute_result"
    }
   ],
   "source": [
    "tf.add(random_tensor,prime_tensor)"
   ]
  },
  {
   "cell_type": "markdown",
   "id": "e97cd3ff",
   "metadata": {},
   "source": [
    "## Pengurangan"
   ]
  },
  {
   "cell_type": "code",
   "execution_count": 8,
   "id": "f292f9be",
   "metadata": {},
   "outputs": [
    {
     "data": {
      "text/plain": [
       "<tf.Tensor: shape=(5, 5), dtype=float32, numpy=\n",
       "array([[-13.21468  , -14.82724  , -20.92628  , -29.995722 , -59.484135 ],\n",
       "       [-18.419718 , -29.589201 , -34.434975 , -54.280773 , -56.859745 ],\n",
       "       [-10.672208 , -28.29094  , -69.991745 ,  -7.3278475, -39.206913 ],\n",
       "       [-66.932625 , -48.732372 , -59.470795 , -50.139618 , -91.864365 ],\n",
       "       [ -5.792554 , -19.078243 , -69.649376 , -39.84233  , -44.90693  ]],\n",
       "      dtype=float32)>"
      ]
     },
     "execution_count": 8,
     "metadata": {},
     "output_type": "execute_result"
    }
   ],
   "source": [
    "tf.subtract(random_tensor,prime_tensor)"
   ]
  },
  {
   "cell_type": "markdown",
   "id": "a8ab72f0",
   "metadata": {},
   "source": [
    "## Perkalian"
   ]
  },
  {
   "cell_type": "code",
   "execution_count": 9,
   "id": "b9f1f3ee",
   "metadata": {},
   "outputs": [
    {
     "data": {
      "text/plain": [
       "<tf.Tensor: shape=(5, 5), dtype=float32, numpy=\n",
       "array([[ 44.565125,  57.109688, 101.84303 , 136.14548 , 358.53116 ],\n",
       "       [ 78.76619 , 149.96716 , 135.471   , 215.71512 , 318.6959  ],\n",
       "       [ 64.916885, 118.689926, 219.60272 ,  56.06583 , 163.10269 ],\n",
       "       [288.7838  , 169.91656 , 222.33994 , 151.60017 , 297.88562 ],\n",
       "       [ 42.074463, 118.122185, 244.59546 , 283.25275 , 200.56041 ]],\n",
       "      dtype=float32)>"
      ]
     },
     "execution_count": 9,
     "metadata": {},
     "output_type": "execute_result"
    }
   ],
   "source": [
    "tf.multiply(random_tensor,prime_tensor)"
   ]
  },
  {
   "cell_type": "markdown",
   "id": "6a062940",
   "metadata": {},
   "source": [
    "## Pembagian"
   ]
  },
  {
   "cell_type": "code",
   "execution_count": 10,
   "id": "d9cf0d2a",
   "metadata": {},
   "outputs": [
    {
     "data": {
      "text/plain": [
       "<tf.Tensor: shape=(5, 5), dtype=float32, numpy=\n",
       "array([[0.17408252, 0.17626446, 0.16294886, 0.1177729 , 0.08485945],\n",
       "       [0.16274007, 0.12972939, 0.09381648, 0.06412459, 0.08290736],\n",
       "       [0.28851947, 0.11590813, 0.04120899, 0.38934603, 0.0882113 ],\n",
       "       [0.05728701, 0.06283896, 0.05601913, 0.05396945, 0.03300672],\n",
       "       [0.4207446 , 0.20507324, 0.04589894, 0.13386235, 0.08353204]],\n",
       "      dtype=float32)>"
      ]
     },
     "execution_count": 10,
     "metadata": {},
     "output_type": "execute_result"
    }
   ],
   "source": [
    "tf.divide(random_tensor,prime_tensor)"
   ]
  },
  {
   "cell_type": "markdown",
   "id": "3167d7d6",
   "metadata": {},
   "source": [
    "## Logaritma"
   ]
  },
  {
   "cell_type": "code",
   "execution_count": 11,
   "id": "5b3f1a81",
   "metadata": {},
   "outputs": [
    {
     "data": {
      "text/plain": [
       "<tf.Tensor: shape=(5, 5), dtype=float32, numpy=\n",
       "array([[1.0243629, 1.154602 , 1.404557 , 1.3873634, 1.7076283],\n",
       "       [1.2754414, 1.4840559, 1.2711715, 1.3135157, 1.637103 ],\n",
       "       [1.4650575, 1.3107785, 1.1013607, 1.5416199, 1.33318  ],\n",
       "       [1.4029984, 1.1840638, 1.2610728, 1.0509547, 1.1428326],\n",
       "       [1.4368558, 1.5936657, 1.2091463, 1.8176981, 1.4092952]],\n",
       "      dtype=float32)>"
      ]
     },
     "execution_count": 11,
     "metadata": {},
     "output_type": "execute_result"
    }
   ],
   "source": [
    "tf.math.log(random_tensor,prime_tensor)"
   ]
  },
  {
   "cell_type": "markdown",
   "id": "58b86dd2",
   "metadata": {},
   "source": [
    "## Perpangkatan"
   ]
  },
  {
   "cell_type": "code",
   "execution_count": 12,
   "id": "cfd7405c",
   "metadata": {},
   "outputs": [
    {
     "data": {
      "text/plain": [
       "<tf.Tensor: shape=(5, 5), dtype=float32, numpy=\n",
       "array([[1.3122067e+07, 1.0613807e+09, 1.7773917e+15, 3.0607364e+20,\n",
       "                  inf],\n",
       "       [1.5352454e+12, 8.1957215e+21, 9.5144559e+20, 1.2196910e+33,\n",
       "                  inf],\n",
       "       [3.4994191e+09, 1.6460545e+18, 8.2600821e+34, 1.0819424e+08,\n",
       "        7.8828765e+24],\n",
       "       [          inf, 5.4964693e+26, 3.1889397e+34, 1.5504689e+24,\n",
       "                  inf],\n",
       "       [1.7385438e+06, 4.0821173e+16, 2.1585544e+38, 2.0565950e+36,\n",
       "        9.7815374e+29]], dtype=float32)>"
      ]
     },
     "execution_count": 12,
     "metadata": {},
     "output_type": "execute_result"
    }
   ],
   "source": [
    "tf.pow(random_tensor,prime_tensor)"
   ]
  },
  {
   "cell_type": "markdown",
   "id": "75655419",
   "metadata": {},
   "source": [
    "## Matmul"
   ]
  },
  {
   "cell_type": "code",
   "execution_count": 13,
   "id": "24edb25b",
   "metadata": {},
   "outputs": [
    {
     "data": {
      "text/plain": [
       "<tf.Tensor: shape=(5, 5), dtype=float32, numpy=\n",
       "array([[ 514.9341 ,  628.9719 , 1142.5072 ,  793.56213, 1203.6108 ],\n",
       "       [ 523.2651 ,  645.259  , 1126.9143 ,  853.907  , 1264.683  ],\n",
       "       [ 565.6215 ,  634.2585 , 1039.9827 ,  820.4755 , 1270.339  ],\n",
       "       [ 424.3473 ,  521.24176,  892.59174,  666.0031 , 1044.1106 ],\n",
       "       [ 703.9823 ,  768.7261 , 1223.5356 ,  983.36017, 1508.2487 ]],\n",
       "      dtype=float32)>"
      ]
     },
     "execution_count": 13,
     "metadata": {},
     "output_type": "execute_result"
    }
   ],
   "source": [
    "tf.matmul(random_tensor,prime_tensor)"
   ]
  },
  {
   "cell_type": "markdown",
   "id": "153bf294",
   "metadata": {},
   "source": [
    "## ArgMAX"
   ]
  },
  {
   "cell_type": "code",
   "execution_count": 14,
   "id": "3f820395",
   "metadata": {},
   "outputs": [
    {
     "data": {
      "text/plain": [
       "array([2, 4, 0, 4, 0], dtype=int64)"
      ]
     },
     "execution_count": 14,
     "metadata": {},
     "output_type": "execute_result"
    }
   ],
   "source": [
    "tf.argmax(random_tensor, axis=0).numpy()"
   ]
  },
  {
   "cell_type": "markdown",
   "id": "38f1dd05",
   "metadata": {},
   "source": [
    "## ArgMIN"
   ]
  },
  {
   "cell_type": "code",
   "execution_count": 15,
   "id": "9e2b3148",
   "metadata": {},
   "outputs": [
    {
     "data": {
      "text/plain": [
       "array([0, 0, 2, 3, 3], dtype=int64)"
      ]
     },
     "execution_count": 15,
     "metadata": {},
     "output_type": "execute_result"
    }
   ],
   "source": [
    "tf.argmin(random_tensor, axis=0).numpy()"
   ]
  },
  {
   "cell_type": "code",
   "execution_count": 16,
   "id": "905d70fe",
   "metadata": {},
   "outputs": [
    {
     "name": "stdout",
     "output_type": "stream",
     "text": [
      "Size Awal : (5, 5) (5, 5)\n"
     ]
    }
   ],
   "source": [
    "print(f\"Size Awal : {random_tensor.shape} {prime_tensor.shape}\" )"
   ]
  },
  {
   "cell_type": "code",
   "execution_count": 17,
   "id": "11f82726",
   "metadata": {},
   "outputs": [
    {
     "name": "stdout",
     "output_type": "stream",
     "text": [
      "Size yang sudah di concat (axis = 0) : (10, 5)\n",
      "Size yang sudah di concat (axis = 1) : (5, 10)\n"
     ]
    }
   ],
   "source": [
    "concat_tensor_1 = tf.concat([random_tensor, prime_tensor], axis=0)\n",
    "concat_tensor_2 = tf.concat([random_tensor, prime_tensor], axis=1)\n",
    "print(f\"Size yang sudah di concat (axis = 0) : {concat_tensor_1.shape}\")\n",
    "print(f\"Size yang sudah di concat (axis = 1) : {concat_tensor_2.shape}\")"
   ]
  },
  {
   "cell_type": "markdown",
   "id": "d012f3d9",
   "metadata": {},
   "source": [
    "## Random_tensor descending sorting"
   ]
  },
  {
   "cell_type": "code",
   "execution_count": 18,
   "id": "602b6e00",
   "metadata": {},
   "outputs": [
    {
     "data": {
      "text/plain": [
       "array([[5.515864 , 4.0737214, 4.0042787, 3.1727605, 2.7853203],\n",
       "       [5.1402564, 4.410799 , 3.7192261, 3.5802815, 3.5650263],\n",
       "       [4.6721525, 4.327792 , 3.7930858, 3.7090602, 3.0082564],\n",
       "       [4.0673776, 3.5292053, 3.2676263, 3.135638 , 2.8603806],\n",
       "       [6.157668 , 4.9217577, 4.207446 , 4.0930696, 3.3506227]],\n",
       "      dtype=float32)"
      ]
     },
     "execution_count": 18,
     "metadata": {},
     "output_type": "execute_result"
    }
   ],
   "source": [
    "tf.sort(random_tensor, direction=\"DESCENDING\").numpy()"
   ]
  },
  {
   "cell_type": "markdown",
   "id": "015adfda",
   "metadata": {},
   "source": [
    "## Random_tensor ascending sorting"
   ]
  },
  {
   "cell_type": "code",
   "execution_count": 19,
   "id": "50801bb7",
   "metadata": {},
   "outputs": [
    {
     "data": {
      "text/plain": [
       "array([[2.7853203, 3.1727605, 4.0042787, 4.0737214, 5.515864 ],\n",
       "       [3.5650263, 3.5802815, 3.7192261, 4.410799 , 5.1402564],\n",
       "       [3.0082564, 3.7090602, 3.7930858, 4.327792 , 4.6721525],\n",
       "       [2.8603806, 3.135638 , 3.2676263, 3.5292053, 4.0673776],\n",
       "       [3.3506227, 4.0930696, 4.207446 , 4.9217577, 6.157668 ]],\n",
       "      dtype=float32)"
      ]
     },
     "execution_count": 19,
     "metadata": {},
     "output_type": "execute_result"
    }
   ],
   "source": [
    "tf.sort(random_tensor, direction=\"ASCENDING\").numpy()"
   ]
  },
  {
   "cell_type": "markdown",
   "id": "8a489da1",
   "metadata": {},
   "source": [
    "## Prime_tensor descending sorting"
   ]
  },
  {
   "cell_type": "code",
   "execution_count": 20,
   "id": "94d1e768",
   "metadata": {},
   "outputs": [
    {
     "data": {
      "text/plain": [
       "array([[65, 34, 25, 18, 16],\n",
       "       [62, 58, 38, 34, 22],\n",
       "       [73, 43, 32, 15, 12],\n",
       "       [95, 71, 63, 53, 52],\n",
       "       [73, 49, 46, 24, 10]], dtype=int64)"
      ]
     },
     "execution_count": 20,
     "metadata": {},
     "output_type": "execute_result"
    }
   ],
   "source": [
    "tf.sort(prime_tensor, direction=\"DESCENDING\").numpy()"
   ]
  },
  {
   "cell_type": "markdown",
   "id": "ba48878c",
   "metadata": {},
   "source": [
    "## Prime_tensor ascending sorting"
   ]
  },
  {
   "cell_type": "code",
   "execution_count": 21,
   "id": "fc1f6ac1",
   "metadata": {},
   "outputs": [
    {
     "data": {
      "text/plain": [
       "array([[16, 18, 25, 34, 65],\n",
       "       [22, 34, 38, 58, 62],\n",
       "       [12, 15, 32, 43, 73],\n",
       "       [52, 53, 63, 71, 95],\n",
       "       [10, 24, 46, 49, 73]], dtype=int64)"
      ]
     },
     "execution_count": 21,
     "metadata": {},
     "output_type": "execute_result"
    }
   ],
   "source": [
    "tf.sort(prime_tensor, direction=\"ASCENDING\").numpy()"
   ]
  },
  {
   "cell_type": "code",
   "execution_count": null,
   "id": "152f9921",
   "metadata": {},
   "outputs": [],
   "source": []
  }
 ],
 "metadata": {
  "kernelspec": {
   "display_name": "Python 3 (ipykernel)",
   "language": "python",
   "name": "python3"
  },
  "language_info": {
   "codemirror_mode": {
    "name": "ipython",
    "version": 3
   },
   "file_extension": ".py",
   "mimetype": "text/x-python",
   "name": "python",
   "nbconvert_exporter": "python",
   "pygments_lexer": "ipython3",
   "version": "3.9.12"
  }
 },
 "nbformat": 4,
 "nbformat_minor": 5
}
