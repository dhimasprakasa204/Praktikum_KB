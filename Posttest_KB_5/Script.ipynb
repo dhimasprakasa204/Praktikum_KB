{
 "cells": [
  {
   "cell_type": "markdown",
   "id": "cafc3678",
   "metadata": {},
   "source": [
    "# Import module yang dibutuhkan"
   ]
  },
  {
   "cell_type": "code",
   "execution_count": 42,
   "id": "137ee934",
   "metadata": {},
   "outputs": [],
   "source": [
    "import pandas as pd\n",
    "import numpy as np\n",
    "import matplotlib.pyplot as plt\n",
    "from sklearn.model_selection import train_test_split\n",
    "import pandas as pd\n",
    "from sklearn.preprocessing import MinMaxScaler\n",
    "from sklearn.preprocessing import StandardScaler\n",
    "from sklearn.impute import SimpleImputer\n",
    "from sklearn.preprocessing import OrdinalEncoder\n",
    "from sklearn.preprocessing import OneHotEncoder\n",
    "import sklearn as sk\n",
    "from sklearn.model_selection import train_test_split\n",
    "from sklearn.metrics import accuracy_score, classification_report, confusion_matrix, plot_confusion_matrix"
   ]
  },
  {
   "cell_type": "code",
   "execution_count": 43,
   "id": "d8ff5a4c",
   "metadata": {},
   "outputs": [],
   "source": [
    "df = pd.read_csv('CarRentalData.csv')"
   ]
  },
  {
   "cell_type": "code",
   "execution_count": 44,
   "id": "c3c70e93",
   "metadata": {},
   "outputs": [
    {
     "data": {
      "text/html": [
       "<div>\n",
       "<style scoped>\n",
       "    .dataframe tbody tr th:only-of-type {\n",
       "        vertical-align: middle;\n",
       "    }\n",
       "\n",
       "    .dataframe tbody tr th {\n",
       "        vertical-align: top;\n",
       "    }\n",
       "\n",
       "    .dataframe thead th {\n",
       "        text-align: right;\n",
       "    }\n",
       "</style>\n",
       "<table border=\"1\" class=\"dataframe\">\n",
       "  <thead>\n",
       "    <tr style=\"text-align: right;\">\n",
       "      <th></th>\n",
       "      <th>fuelType</th>\n",
       "      <th>rating</th>\n",
       "      <th>renterTripsTaken</th>\n",
       "      <th>reviewCount</th>\n",
       "      <th>location.city</th>\n",
       "      <th>location.country</th>\n",
       "      <th>location.latitude</th>\n",
       "      <th>location.longitude</th>\n",
       "      <th>location.state</th>\n",
       "      <th>owner.id</th>\n",
       "      <th>rate.daily</th>\n",
       "      <th>vehicle.make</th>\n",
       "      <th>vehicle.model</th>\n",
       "      <th>vehicle.type</th>\n",
       "      <th>vehicle.year</th>\n",
       "    </tr>\n",
       "  </thead>\n",
       "  <tbody>\n",
       "    <tr>\n",
       "      <th>0</th>\n",
       "      <td>ELECTRIC</td>\n",
       "      <td>5.00</td>\n",
       "      <td>13</td>\n",
       "      <td>12</td>\n",
       "      <td>Seattle</td>\n",
       "      <td>US</td>\n",
       "      <td>47.449107</td>\n",
       "      <td>-122.308841</td>\n",
       "      <td>WA</td>\n",
       "      <td>12847615</td>\n",
       "      <td>135</td>\n",
       "      <td>Tesla</td>\n",
       "      <td>Model X</td>\n",
       "      <td>suv</td>\n",
       "      <td>2019</td>\n",
       "    </tr>\n",
       "    <tr>\n",
       "      <th>1</th>\n",
       "      <td>ELECTRIC</td>\n",
       "      <td>5.00</td>\n",
       "      <td>2</td>\n",
       "      <td>1</td>\n",
       "      <td>Tijeras</td>\n",
       "      <td>US</td>\n",
       "      <td>35.111060</td>\n",
       "      <td>-106.276551</td>\n",
       "      <td>NM</td>\n",
       "      <td>15621242</td>\n",
       "      <td>190</td>\n",
       "      <td>Tesla</td>\n",
       "      <td>Model X</td>\n",
       "      <td>suv</td>\n",
       "      <td>2018</td>\n",
       "    </tr>\n",
       "    <tr>\n",
       "      <th>2</th>\n",
       "      <td>HYBRID</td>\n",
       "      <td>4.92</td>\n",
       "      <td>28</td>\n",
       "      <td>24</td>\n",
       "      <td>Albuquerque</td>\n",
       "      <td>US</td>\n",
       "      <td>35.127163</td>\n",
       "      <td>-106.566681</td>\n",
       "      <td>NM</td>\n",
       "      <td>10199256</td>\n",
       "      <td>35</td>\n",
       "      <td>Toyota</td>\n",
       "      <td>Prius</td>\n",
       "      <td>car</td>\n",
       "      <td>2012</td>\n",
       "    </tr>\n",
       "    <tr>\n",
       "      <th>3</th>\n",
       "      <td>GASOLINE</td>\n",
       "      <td>5.00</td>\n",
       "      <td>21</td>\n",
       "      <td>20</td>\n",
       "      <td>Albuquerque</td>\n",
       "      <td>US</td>\n",
       "      <td>35.149726</td>\n",
       "      <td>-106.711425</td>\n",
       "      <td>NM</td>\n",
       "      <td>9365496</td>\n",
       "      <td>75</td>\n",
       "      <td>Ford</td>\n",
       "      <td>Mustang</td>\n",
       "      <td>car</td>\n",
       "      <td>2018</td>\n",
       "    </tr>\n",
       "    <tr>\n",
       "      <th>4</th>\n",
       "      <td>GASOLINE</td>\n",
       "      <td>5.00</td>\n",
       "      <td>3</td>\n",
       "      <td>1</td>\n",
       "      <td>Albuquerque</td>\n",
       "      <td>US</td>\n",
       "      <td>35.208659</td>\n",
       "      <td>-106.601008</td>\n",
       "      <td>NM</td>\n",
       "      <td>3553565</td>\n",
       "      <td>47</td>\n",
       "      <td>Chrysler</td>\n",
       "      <td>Sebring</td>\n",
       "      <td>car</td>\n",
       "      <td>2010</td>\n",
       "    </tr>\n",
       "    <tr>\n",
       "      <th>5</th>\n",
       "      <td>GASOLINE</td>\n",
       "      <td>5.00</td>\n",
       "      <td>13</td>\n",
       "      <td>12</td>\n",
       "      <td>Albuquerque</td>\n",
       "      <td>US</td>\n",
       "      <td>35.068834</td>\n",
       "      <td>-106.576111</td>\n",
       "      <td>NM</td>\n",
       "      <td>7815747</td>\n",
       "      <td>58</td>\n",
       "      <td>Mercedes-Benz</td>\n",
       "      <td>GL-Class</td>\n",
       "      <td>suv</td>\n",
       "      <td>2012</td>\n",
       "    </tr>\n",
       "    <tr>\n",
       "      <th>6</th>\n",
       "      <td>GASOLINE</td>\n",
       "      <td>4.42</td>\n",
       "      <td>13</td>\n",
       "      <td>12</td>\n",
       "      <td>Albuquerque</td>\n",
       "      <td>US</td>\n",
       "      <td>35.045552</td>\n",
       "      <td>-106.633815</td>\n",
       "      <td>NM</td>\n",
       "      <td>3112016</td>\n",
       "      <td>42</td>\n",
       "      <td>GMC</td>\n",
       "      <td>Yukon XL</td>\n",
       "      <td>suv</td>\n",
       "      <td>2005</td>\n",
       "    </tr>\n",
       "    <tr>\n",
       "      <th>7</th>\n",
       "      <td>GASOLINE</td>\n",
       "      <td>4.90</td>\n",
       "      <td>12</td>\n",
       "      <td>10</td>\n",
       "      <td>Albuquerque</td>\n",
       "      <td>US</td>\n",
       "      <td>35.186542</td>\n",
       "      <td>-106.686481</td>\n",
       "      <td>NM</td>\n",
       "      <td>9536762</td>\n",
       "      <td>117</td>\n",
       "      <td>Ford</td>\n",
       "      <td>Expedition</td>\n",
       "      <td>suv</td>\n",
       "      <td>2018</td>\n",
       "    </tr>\n",
       "    <tr>\n",
       "      <th>8</th>\n",
       "      <td>GASOLINE</td>\n",
       "      <td>5.00</td>\n",
       "      <td>1</td>\n",
       "      <td>1</td>\n",
       "      <td>Albuquerque</td>\n",
       "      <td>US</td>\n",
       "      <td>35.061213</td>\n",
       "      <td>-106.629406</td>\n",
       "      <td>NM</td>\n",
       "      <td>14893743</td>\n",
       "      <td>102</td>\n",
       "      <td>Ford</td>\n",
       "      <td>Focus RS</td>\n",
       "      <td>car</td>\n",
       "      <td>2016</td>\n",
       "    </tr>\n",
       "    <tr>\n",
       "      <th>9</th>\n",
       "      <td>GASOLINE</td>\n",
       "      <td>4.76</td>\n",
       "      <td>22</td>\n",
       "      <td>17</td>\n",
       "      <td>Albuquerque</td>\n",
       "      <td>US</td>\n",
       "      <td>35.115363</td>\n",
       "      <td>-106.556911</td>\n",
       "      <td>NM</td>\n",
       "      <td>11389136</td>\n",
       "      <td>49</td>\n",
       "      <td>Ford</td>\n",
       "      <td>EcoSport</td>\n",
       "      <td>suv</td>\n",
       "      <td>2018</td>\n",
       "    </tr>\n",
       "  </tbody>\n",
       "</table>\n",
       "</div>"
      ],
      "text/plain": [
       "   fuelType  rating  renterTripsTaken  reviewCount location.city  \\\n",
       "0  ELECTRIC    5.00                13           12       Seattle   \n",
       "1  ELECTRIC    5.00                 2            1       Tijeras   \n",
       "2    HYBRID    4.92                28           24   Albuquerque   \n",
       "3  GASOLINE    5.00                21           20   Albuquerque   \n",
       "4  GASOLINE    5.00                 3            1   Albuquerque   \n",
       "5  GASOLINE    5.00                13           12   Albuquerque   \n",
       "6  GASOLINE    4.42                13           12   Albuquerque   \n",
       "7  GASOLINE    4.90                12           10   Albuquerque   \n",
       "8  GASOLINE    5.00                 1            1   Albuquerque   \n",
       "9  GASOLINE    4.76                22           17   Albuquerque   \n",
       "\n",
       "  location.country  location.latitude  location.longitude location.state  \\\n",
       "0               US          47.449107         -122.308841             WA   \n",
       "1               US          35.111060         -106.276551             NM   \n",
       "2               US          35.127163         -106.566681             NM   \n",
       "3               US          35.149726         -106.711425             NM   \n",
       "4               US          35.208659         -106.601008             NM   \n",
       "5               US          35.068834         -106.576111             NM   \n",
       "6               US          35.045552         -106.633815             NM   \n",
       "7               US          35.186542         -106.686481             NM   \n",
       "8               US          35.061213         -106.629406             NM   \n",
       "9               US          35.115363         -106.556911             NM   \n",
       "\n",
       "   owner.id  rate.daily   vehicle.make vehicle.model vehicle.type  \\\n",
       "0  12847615         135          Tesla       Model X          suv   \n",
       "1  15621242         190          Tesla       Model X          suv   \n",
       "2  10199256          35         Toyota         Prius          car   \n",
       "3   9365496          75           Ford       Mustang          car   \n",
       "4   3553565          47       Chrysler       Sebring          car   \n",
       "5   7815747          58  Mercedes-Benz      GL-Class          suv   \n",
       "6   3112016          42            GMC      Yukon XL          suv   \n",
       "7   9536762         117           Ford    Expedition          suv   \n",
       "8  14893743         102           Ford      Focus RS          car   \n",
       "9  11389136          49           Ford      EcoSport          suv   \n",
       "\n",
       "   vehicle.year  \n",
       "0          2019  \n",
       "1          2018  \n",
       "2          2012  \n",
       "3          2018  \n",
       "4          2010  \n",
       "5          2012  \n",
       "6          2005  \n",
       "7          2018  \n",
       "8          2016  \n",
       "9          2018  "
      ]
     },
     "execution_count": 44,
     "metadata": {},
     "output_type": "execute_result"
    }
   ],
   "source": [
    "df.head(10)"
   ]
  },
  {
   "cell_type": "code",
   "execution_count": 45,
   "id": "f0815b24",
   "metadata": {},
   "outputs": [
    {
     "name": "stdout",
     "output_type": "stream",
     "text": [
      "<class 'pandas.core.frame.DataFrame'>\n",
      "RangeIndex: 5851 entries, 0 to 5850\n",
      "Data columns (total 15 columns):\n",
      " #   Column              Non-Null Count  Dtype  \n",
      "---  ------              --------------  -----  \n",
      " 0   fuelType            5776 non-null   object \n",
      " 1   rating              5350 non-null   float64\n",
      " 2   renterTripsTaken    5851 non-null   int64  \n",
      " 3   reviewCount         5851 non-null   int64  \n",
      " 4   location.city       5851 non-null   object \n",
      " 5   location.country    5851 non-null   object \n",
      " 6   location.latitude   5851 non-null   float64\n",
      " 7   location.longitude  5851 non-null   float64\n",
      " 8   location.state      5851 non-null   object \n",
      " 9   owner.id            5851 non-null   int64  \n",
      " 10  rate.daily          5851 non-null   int64  \n",
      " 11  vehicle.make        5851 non-null   object \n",
      " 12  vehicle.model       5851 non-null   object \n",
      " 13  vehicle.type        5851 non-null   object \n",
      " 14  vehicle.year        5851 non-null   int64  \n",
      "dtypes: float64(3), int64(5), object(7)\n",
      "memory usage: 685.8+ KB\n"
     ]
    }
   ],
   "source": [
    "df.info()"
   ]
  },
  {
   "cell_type": "markdown",
   "id": "dd414292",
   "metadata": {},
   "source": [
    "# Subset feature dan target"
   ]
  },
  {
   "cell_type": "code",
   "execution_count": 46,
   "id": "4d12a4a6",
   "metadata": {},
   "outputs": [],
   "source": [
    "X = df.iloc[:,:-1] # Target\n",
    "y = df.iloc[:,-1] # Feature"
   ]
  },
  {
   "cell_type": "markdown",
   "id": "1913fac8",
   "metadata": {},
   "source": [
    "# Bagi dataset menjadi Training Set dan Testing Set dengan proporsi 70:30"
   ]
  },
  {
   "cell_type": "code",
   "execution_count": 47,
   "id": "21575d57",
   "metadata": {},
   "outputs": [],
   "source": [
    "X_train, X_test, y_train, y_test = train_test_split(X,y,test_size = 0.3)"
   ]
  },
  {
   "cell_type": "code",
   "execution_count": 48,
   "id": "b1cf6e0b",
   "metadata": {},
   "outputs": [
    {
     "name": "stdout",
     "output_type": "stream",
     "text": [
      "Dimensi X_train:  (4095, 14)\n",
      "Dimensi X_test:  (1756, 14)\n",
      "Dimensi y_train:  (4095,)\n",
      "Dimensi y_test:  (1756,)\n"
     ]
    }
   ],
   "source": [
    "print(\"Dimensi X_train: \", X_train.shape)\n",
    "print(\"Dimensi X_test: \", X_test.shape)\n",
    "print(\"Dimensi y_train: \", y_train.shape)\n",
    "print(\"Dimensi y_test: \", y_test.shape)"
   ]
  },
  {
   "cell_type": "markdown",
   "id": "86669ec9",
   "metadata": {},
   "source": [
    "# Lakukan normalisasi data pada salah satu attribute menggunakan Min Max scaler (buatlah copy dataset terlebih dahulu)"
   ]
  },
  {
   "cell_type": "code",
   "execution_count": 49,
   "id": "76cda8b8",
   "metadata": {},
   "outputs": [],
   "source": [
    "dfClone = pd.read_csv('CarRentalData.csv')"
   ]
  },
  {
   "cell_type": "code",
   "execution_count": 50,
   "id": "d7238470",
   "metadata": {},
   "outputs": [],
   "source": [
    "mms = MinMaxScaler()"
   ]
  },
  {
   "cell_type": "code",
   "execution_count": 51,
   "id": "76d4b052",
   "metadata": {},
   "outputs": [],
   "source": [
    "x_scaled = mms.fit_transform(dfClone[[\"renterTripsTaken\",\"rating\",\"reviewCount\"]])\n"
   ]
  },
  {
   "cell_type": "code",
   "execution_count": 52,
   "id": "bc0c64b2",
   "metadata": {},
   "outputs": [
    {
     "data": {
      "text/html": [
       "<div>\n",
       "<style scoped>\n",
       "    .dataframe tbody tr th:only-of-type {\n",
       "        vertical-align: middle;\n",
       "    }\n",
       "\n",
       "    .dataframe tbody tr th {\n",
       "        vertical-align: top;\n",
       "    }\n",
       "\n",
       "    .dataframe thead th {\n",
       "        text-align: right;\n",
       "    }\n",
       "</style>\n",
       "<table border=\"1\" class=\"dataframe\">\n",
       "  <thead>\n",
       "    <tr style=\"text-align: right;\">\n",
       "      <th></th>\n",
       "      <th>fuelType</th>\n",
       "      <th>rating</th>\n",
       "      <th>renterTripsTaken</th>\n",
       "      <th>reviewCount</th>\n",
       "      <th>location.city</th>\n",
       "      <th>location.country</th>\n",
       "      <th>location.latitude</th>\n",
       "      <th>location.longitude</th>\n",
       "      <th>location.state</th>\n",
       "      <th>owner.id</th>\n",
       "      <th>rate.daily</th>\n",
       "      <th>vehicle.make</th>\n",
       "      <th>vehicle.model</th>\n",
       "      <th>vehicle.type</th>\n",
       "      <th>vehicle.year</th>\n",
       "    </tr>\n",
       "  </thead>\n",
       "  <tbody>\n",
       "    <tr>\n",
       "      <th>0</th>\n",
       "      <td>ELECTRIC</td>\n",
       "      <td>5.00</td>\n",
       "      <td>13</td>\n",
       "      <td>12</td>\n",
       "      <td>Seattle</td>\n",
       "      <td>US</td>\n",
       "      <td>47.449107</td>\n",
       "      <td>-122.308841</td>\n",
       "      <td>WA</td>\n",
       "      <td>12847615</td>\n",
       "      <td>135</td>\n",
       "      <td>Tesla</td>\n",
       "      <td>Model X</td>\n",
       "      <td>suv</td>\n",
       "      <td>2019</td>\n",
       "    </tr>\n",
       "    <tr>\n",
       "      <th>1</th>\n",
       "      <td>ELECTRIC</td>\n",
       "      <td>5.00</td>\n",
       "      <td>2</td>\n",
       "      <td>1</td>\n",
       "      <td>Tijeras</td>\n",
       "      <td>US</td>\n",
       "      <td>35.111060</td>\n",
       "      <td>-106.276551</td>\n",
       "      <td>NM</td>\n",
       "      <td>15621242</td>\n",
       "      <td>190</td>\n",
       "      <td>Tesla</td>\n",
       "      <td>Model X</td>\n",
       "      <td>suv</td>\n",
       "      <td>2018</td>\n",
       "    </tr>\n",
       "    <tr>\n",
       "      <th>2</th>\n",
       "      <td>HYBRID</td>\n",
       "      <td>4.92</td>\n",
       "      <td>28</td>\n",
       "      <td>24</td>\n",
       "      <td>Albuquerque</td>\n",
       "      <td>US</td>\n",
       "      <td>35.127163</td>\n",
       "      <td>-106.566681</td>\n",
       "      <td>NM</td>\n",
       "      <td>10199256</td>\n",
       "      <td>35</td>\n",
       "      <td>Toyota</td>\n",
       "      <td>Prius</td>\n",
       "      <td>car</td>\n",
       "      <td>2012</td>\n",
       "    </tr>\n",
       "    <tr>\n",
       "      <th>3</th>\n",
       "      <td>GASOLINE</td>\n",
       "      <td>5.00</td>\n",
       "      <td>21</td>\n",
       "      <td>20</td>\n",
       "      <td>Albuquerque</td>\n",
       "      <td>US</td>\n",
       "      <td>35.149726</td>\n",
       "      <td>-106.711425</td>\n",
       "      <td>NM</td>\n",
       "      <td>9365496</td>\n",
       "      <td>75</td>\n",
       "      <td>Ford</td>\n",
       "      <td>Mustang</td>\n",
       "      <td>car</td>\n",
       "      <td>2018</td>\n",
       "    </tr>\n",
       "    <tr>\n",
       "      <th>4</th>\n",
       "      <td>GASOLINE</td>\n",
       "      <td>5.00</td>\n",
       "      <td>3</td>\n",
       "      <td>1</td>\n",
       "      <td>Albuquerque</td>\n",
       "      <td>US</td>\n",
       "      <td>35.208659</td>\n",
       "      <td>-106.601008</td>\n",
       "      <td>NM</td>\n",
       "      <td>3553565</td>\n",
       "      <td>47</td>\n",
       "      <td>Chrysler</td>\n",
       "      <td>Sebring</td>\n",
       "      <td>car</td>\n",
       "      <td>2010</td>\n",
       "    </tr>\n",
       "    <tr>\n",
       "      <th>5</th>\n",
       "      <td>GASOLINE</td>\n",
       "      <td>5.00</td>\n",
       "      <td>13</td>\n",
       "      <td>12</td>\n",
       "      <td>Albuquerque</td>\n",
       "      <td>US</td>\n",
       "      <td>35.068834</td>\n",
       "      <td>-106.576111</td>\n",
       "      <td>NM</td>\n",
       "      <td>7815747</td>\n",
       "      <td>58</td>\n",
       "      <td>Mercedes-Benz</td>\n",
       "      <td>GL-Class</td>\n",
       "      <td>suv</td>\n",
       "      <td>2012</td>\n",
       "    </tr>\n",
       "    <tr>\n",
       "      <th>6</th>\n",
       "      <td>GASOLINE</td>\n",
       "      <td>4.42</td>\n",
       "      <td>13</td>\n",
       "      <td>12</td>\n",
       "      <td>Albuquerque</td>\n",
       "      <td>US</td>\n",
       "      <td>35.045552</td>\n",
       "      <td>-106.633815</td>\n",
       "      <td>NM</td>\n",
       "      <td>3112016</td>\n",
       "      <td>42</td>\n",
       "      <td>GMC</td>\n",
       "      <td>Yukon XL</td>\n",
       "      <td>suv</td>\n",
       "      <td>2005</td>\n",
       "    </tr>\n",
       "    <tr>\n",
       "      <th>7</th>\n",
       "      <td>GASOLINE</td>\n",
       "      <td>4.90</td>\n",
       "      <td>12</td>\n",
       "      <td>10</td>\n",
       "      <td>Albuquerque</td>\n",
       "      <td>US</td>\n",
       "      <td>35.186542</td>\n",
       "      <td>-106.686481</td>\n",
       "      <td>NM</td>\n",
       "      <td>9536762</td>\n",
       "      <td>117</td>\n",
       "      <td>Ford</td>\n",
       "      <td>Expedition</td>\n",
       "      <td>suv</td>\n",
       "      <td>2018</td>\n",
       "    </tr>\n",
       "    <tr>\n",
       "      <th>8</th>\n",
       "      <td>GASOLINE</td>\n",
       "      <td>5.00</td>\n",
       "      <td>1</td>\n",
       "      <td>1</td>\n",
       "      <td>Albuquerque</td>\n",
       "      <td>US</td>\n",
       "      <td>35.061213</td>\n",
       "      <td>-106.629406</td>\n",
       "      <td>NM</td>\n",
       "      <td>14893743</td>\n",
       "      <td>102</td>\n",
       "      <td>Ford</td>\n",
       "      <td>Focus RS</td>\n",
       "      <td>car</td>\n",
       "      <td>2016</td>\n",
       "    </tr>\n",
       "    <tr>\n",
       "      <th>9</th>\n",
       "      <td>GASOLINE</td>\n",
       "      <td>4.76</td>\n",
       "      <td>22</td>\n",
       "      <td>17</td>\n",
       "      <td>Albuquerque</td>\n",
       "      <td>US</td>\n",
       "      <td>35.115363</td>\n",
       "      <td>-106.556911</td>\n",
       "      <td>NM</td>\n",
       "      <td>11389136</td>\n",
       "      <td>49</td>\n",
       "      <td>Ford</td>\n",
       "      <td>EcoSport</td>\n",
       "      <td>suv</td>\n",
       "      <td>2018</td>\n",
       "    </tr>\n",
       "  </tbody>\n",
       "</table>\n",
       "</div>"
      ],
      "text/plain": [
       "   fuelType  rating  renterTripsTaken  reviewCount location.city  \\\n",
       "0  ELECTRIC    5.00                13           12       Seattle   \n",
       "1  ELECTRIC    5.00                 2            1       Tijeras   \n",
       "2    HYBRID    4.92                28           24   Albuquerque   \n",
       "3  GASOLINE    5.00                21           20   Albuquerque   \n",
       "4  GASOLINE    5.00                 3            1   Albuquerque   \n",
       "5  GASOLINE    5.00                13           12   Albuquerque   \n",
       "6  GASOLINE    4.42                13           12   Albuquerque   \n",
       "7  GASOLINE    4.90                12           10   Albuquerque   \n",
       "8  GASOLINE    5.00                 1            1   Albuquerque   \n",
       "9  GASOLINE    4.76                22           17   Albuquerque   \n",
       "\n",
       "  location.country  location.latitude  location.longitude location.state  \\\n",
       "0               US          47.449107         -122.308841             WA   \n",
       "1               US          35.111060         -106.276551             NM   \n",
       "2               US          35.127163         -106.566681             NM   \n",
       "3               US          35.149726         -106.711425             NM   \n",
       "4               US          35.208659         -106.601008             NM   \n",
       "5               US          35.068834         -106.576111             NM   \n",
       "6               US          35.045552         -106.633815             NM   \n",
       "7               US          35.186542         -106.686481             NM   \n",
       "8               US          35.061213         -106.629406             NM   \n",
       "9               US          35.115363         -106.556911             NM   \n",
       "\n",
       "   owner.id  rate.daily   vehicle.make vehicle.model vehicle.type  \\\n",
       "0  12847615         135          Tesla       Model X          suv   \n",
       "1  15621242         190          Tesla       Model X          suv   \n",
       "2  10199256          35         Toyota         Prius          car   \n",
       "3   9365496          75           Ford       Mustang          car   \n",
       "4   3553565          47       Chrysler       Sebring          car   \n",
       "5   7815747          58  Mercedes-Benz      GL-Class          suv   \n",
       "6   3112016          42            GMC      Yukon XL          suv   \n",
       "7   9536762         117           Ford    Expedition          suv   \n",
       "8  14893743         102           Ford      Focus RS          car   \n",
       "9  11389136          49           Ford      EcoSport          suv   \n",
       "\n",
       "   vehicle.year  \n",
       "0          2019  \n",
       "1          2018  \n",
       "2          2012  \n",
       "3          2018  \n",
       "4          2010  \n",
       "5          2012  \n",
       "6          2005  \n",
       "7          2018  \n",
       "8          2016  \n",
       "9          2018  "
      ]
     },
     "execution_count": 52,
     "metadata": {},
     "output_type": "execute_result"
    }
   ],
   "source": [
    "dfClone.head(10)"
   ]
  },
  {
   "cell_type": "markdown",
   "id": "6d182810",
   "metadata": {},
   "source": [
    "### Normalilasi dengan metode Z-Score"
   ]
  },
  {
   "cell_type": "code",
   "execution_count": 53,
   "id": "b050f438",
   "metadata": {},
   "outputs": [],
   "source": [
    "dfClone[\"renterTripsTaken\"] = dfClone[\"renterTripsTaken\"] / dfClone[\"renterTripsTaken\"].std()\n",
    "dfClone[\"reviewCount\"] = dfClone[\"reviewCount\"] / dfClone[\"reviewCount\"].std()"
   ]
  },
  {
   "cell_type": "code",
   "execution_count": 54,
   "id": "b19d34c0",
   "metadata": {},
   "outputs": [
    {
     "data": {
      "text/html": [
       "<div>\n",
       "<style scoped>\n",
       "    .dataframe tbody tr th:only-of-type {\n",
       "        vertical-align: middle;\n",
       "    }\n",
       "\n",
       "    .dataframe tbody tr th {\n",
       "        vertical-align: top;\n",
       "    }\n",
       "\n",
       "    .dataframe thead th {\n",
       "        text-align: right;\n",
       "    }\n",
       "</style>\n",
       "<table border=\"1\" class=\"dataframe\">\n",
       "  <thead>\n",
       "    <tr style=\"text-align: right;\">\n",
       "      <th></th>\n",
       "      <th>fuelType</th>\n",
       "      <th>rating</th>\n",
       "      <th>renterTripsTaken</th>\n",
       "      <th>reviewCount</th>\n",
       "      <th>location.city</th>\n",
       "      <th>location.country</th>\n",
       "      <th>location.latitude</th>\n",
       "      <th>location.longitude</th>\n",
       "      <th>location.state</th>\n",
       "      <th>owner.id</th>\n",
       "      <th>rate.daily</th>\n",
       "      <th>vehicle.make</th>\n",
       "      <th>vehicle.model</th>\n",
       "      <th>vehicle.type</th>\n",
       "      <th>vehicle.year</th>\n",
       "    </tr>\n",
       "  </thead>\n",
       "  <tbody>\n",
       "    <tr>\n",
       "      <th>0</th>\n",
       "      <td>ELECTRIC</td>\n",
       "      <td>5.00</td>\n",
       "      <td>0.310270</td>\n",
       "      <td>0.341529</td>\n",
       "      <td>Seattle</td>\n",
       "      <td>US</td>\n",
       "      <td>47.449107</td>\n",
       "      <td>-122.308841</td>\n",
       "      <td>WA</td>\n",
       "      <td>12847615</td>\n",
       "      <td>135</td>\n",
       "      <td>Tesla</td>\n",
       "      <td>Model X</td>\n",
       "      <td>suv</td>\n",
       "      <td>2019</td>\n",
       "    </tr>\n",
       "    <tr>\n",
       "      <th>1</th>\n",
       "      <td>ELECTRIC</td>\n",
       "      <td>5.00</td>\n",
       "      <td>0.047734</td>\n",
       "      <td>0.028461</td>\n",
       "      <td>Tijeras</td>\n",
       "      <td>US</td>\n",
       "      <td>35.111060</td>\n",
       "      <td>-106.276551</td>\n",
       "      <td>NM</td>\n",
       "      <td>15621242</td>\n",
       "      <td>190</td>\n",
       "      <td>Tesla</td>\n",
       "      <td>Model X</td>\n",
       "      <td>suv</td>\n",
       "      <td>2018</td>\n",
       "    </tr>\n",
       "    <tr>\n",
       "      <th>2</th>\n",
       "      <td>HYBRID</td>\n",
       "      <td>4.92</td>\n",
       "      <td>0.668274</td>\n",
       "      <td>0.683058</td>\n",
       "      <td>Albuquerque</td>\n",
       "      <td>US</td>\n",
       "      <td>35.127163</td>\n",
       "      <td>-106.566681</td>\n",
       "      <td>NM</td>\n",
       "      <td>10199256</td>\n",
       "      <td>35</td>\n",
       "      <td>Toyota</td>\n",
       "      <td>Prius</td>\n",
       "      <td>car</td>\n",
       "      <td>2012</td>\n",
       "    </tr>\n",
       "    <tr>\n",
       "      <th>3</th>\n",
       "      <td>GASOLINE</td>\n",
       "      <td>5.00</td>\n",
       "      <td>0.501206</td>\n",
       "      <td>0.569215</td>\n",
       "      <td>Albuquerque</td>\n",
       "      <td>US</td>\n",
       "      <td>35.149726</td>\n",
       "      <td>-106.711425</td>\n",
       "      <td>NM</td>\n",
       "      <td>9365496</td>\n",
       "      <td>75</td>\n",
       "      <td>Ford</td>\n",
       "      <td>Mustang</td>\n",
       "      <td>car</td>\n",
       "      <td>2018</td>\n",
       "    </tr>\n",
       "    <tr>\n",
       "      <th>4</th>\n",
       "      <td>GASOLINE</td>\n",
       "      <td>5.00</td>\n",
       "      <td>0.071601</td>\n",
       "      <td>0.028461</td>\n",
       "      <td>Albuquerque</td>\n",
       "      <td>US</td>\n",
       "      <td>35.208659</td>\n",
       "      <td>-106.601008</td>\n",
       "      <td>NM</td>\n",
       "      <td>3553565</td>\n",
       "      <td>47</td>\n",
       "      <td>Chrysler</td>\n",
       "      <td>Sebring</td>\n",
       "      <td>car</td>\n",
       "      <td>2010</td>\n",
       "    </tr>\n",
       "  </tbody>\n",
       "</table>\n",
       "</div>"
      ],
      "text/plain": [
       "   fuelType  rating  renterTripsTaken  reviewCount location.city  \\\n",
       "0  ELECTRIC    5.00          0.310270     0.341529       Seattle   \n",
       "1  ELECTRIC    5.00          0.047734     0.028461       Tijeras   \n",
       "2    HYBRID    4.92          0.668274     0.683058   Albuquerque   \n",
       "3  GASOLINE    5.00          0.501206     0.569215   Albuquerque   \n",
       "4  GASOLINE    5.00          0.071601     0.028461   Albuquerque   \n",
       "\n",
       "  location.country  location.latitude  location.longitude location.state  \\\n",
       "0               US          47.449107         -122.308841             WA   \n",
       "1               US          35.111060         -106.276551             NM   \n",
       "2               US          35.127163         -106.566681             NM   \n",
       "3               US          35.149726         -106.711425             NM   \n",
       "4               US          35.208659         -106.601008             NM   \n",
       "\n",
       "   owner.id  rate.daily vehicle.make vehicle.model vehicle.type  vehicle.year  \n",
       "0  12847615         135        Tesla       Model X          suv          2019  \n",
       "1  15621242         190        Tesla       Model X          suv          2018  \n",
       "2  10199256          35       Toyota         Prius          car          2012  \n",
       "3   9365496          75         Ford       Mustang          car          2018  \n",
       "4   3553565          47     Chrysler       Sebring          car          2010  "
      ]
     },
     "execution_count": 54,
     "metadata": {},
     "output_type": "execute_result"
    }
   ],
   "source": [
    "dfClone.head()"
   ]
  },
  {
   "cell_type": "markdown",
   "id": "062843ee",
   "metadata": {},
   "source": [
    "# Lakukan standarisasi pada dataset (buatlah copy dataset terlebih dahulu)"
   ]
  },
  {
   "cell_type": "code",
   "execution_count": 55,
   "id": "7ceac39a",
   "metadata": {},
   "outputs": [
    {
     "data": {
      "image/png": "[encoded data removed]",
      "text/plain": [
       "<Figure size 432x288 with 1 Axes>"
      ]
     },
     "metadata": {
      "needs_background": "light"
     },
     "output_type": "display_data"
    }
   ],
   "source": [
    "plt.plot(dfClone.rating, dfClone.renterTripsTaken)\n",
    "plt.show()"
   ]
  },
  {
   "cell_type": "code",
   "execution_count": 56,
   "id": "b909cf72",
   "metadata": {},
   "outputs": [],
   "source": [
    "ss = StandardScaler()"
   ]
  },
  {
   "cell_type": "code",
   "execution_count": 57,
   "id": "f0941ca8",
   "metadata": {},
   "outputs": [],
   "source": [
    "x_skala = ss.fit_transform(dfClone[[\"renterTripsTaken\",\"rating\"]])"
   ]
  },
  {
   "cell_type": "code",
   "execution_count": 58,
   "id": "5b5e4028",
   "metadata": {},
   "outputs": [],
   "source": [
    "data_standardisasi = pd.DataFrame(x_skala)"
   ]
  },
  {
   "cell_type": "code",
   "execution_count": 59,
   "id": "68aa362a",
   "metadata": {},
   "outputs": [
    {
     "data": {
      "image/png": "[encoded data removed]",
      "text/plain": [
       "<Figure size 432x288 with 1 Axes>"
      ]
     },
     "metadata": {
      "needs_background": "light"
     },
     "output_type": "display_data"
    }
   ],
   "source": [
    "plt.plot(dfClone.rating, dfClone.renterTripsTaken)\n",
    "plt.show()"
   ]
  },
  {
   "cell_type": "markdown",
   "id": "3d91e511",
   "metadata": {},
   "source": [
    "# Lakukan Data cleaning pada data dengan nilai null (jika tidak ada nilai null pada dataset, maka buatlah menjadi ada). Ganti nilai null sesuai ketentuan. (bilangan bulat : median/modus, bilangan desimal : mean, tulisan : modus). Nilai plus jika strategy yang digunakan menggunakan 3 nilai"
   ]
  },
  {
   "cell_type": "code",
   "execution_count": 60,
   "id": "47695b42",
   "metadata": {},
   "outputs": [
    {
     "name": "stdout",
     "output_type": "stream",
     "text": [
      "Berikut Ini adalah Data sebelum dicleaning :\n"
     ]
    },
    {
     "data": {
      "text/plain": [
       "fuelType               75\n",
       "rating                501\n",
       "renterTripsTaken        0\n",
       "reviewCount             0\n",
       "location.city           0\n",
       "location.country        0\n",
       "location.latitude       0\n",
       "location.longitude      0\n",
       "location.state          0\n",
       "owner.id                0\n",
       "rate.daily              0\n",
       "vehicle.make            0\n",
       "vehicle.model           0\n",
       "vehicle.type            0\n",
       "vehicle.year            0\n",
       "dtype: int64"
      ]
     },
     "execution_count": 60,
     "metadata": {},
     "output_type": "execute_result"
    }
   ],
   "source": [
    "print(\"Berikut Ini adalah Data sebelum dicleaning :\")\n",
    "df.isna().sum()"
   ]
  },
  {
   "cell_type": "code",
   "execution_count": 61,
   "id": "921c858f",
   "metadata": {},
   "outputs": [],
   "source": [
    "imputer = SimpleImputer(strategy=\"mean\")\n",
    "imputerString = SimpleImputer(strategy=\"most_frequent\")"
   ]
  },
  {
   "cell_type": "code",
   "execution_count": 62,
   "id": "56d57647",
   "metadata": {},
   "outputs": [],
   "source": [
    "df['rating'] = imputerString.fit_transform(df[['rating']])"
   ]
  },
  {
   "cell_type": "code",
   "execution_count": 63,
   "id": "f9cdb7ad",
   "metadata": {},
   "outputs": [],
   "source": [
    "df['fuelType'] = imputerString.fit_transform(df[['fuelType']])"
   ]
  },
  {
   "cell_type": "code",
   "execution_count": 64,
   "id": "e71307e6",
   "metadata": {},
   "outputs": [
    {
     "name": "stdout",
     "output_type": "stream",
     "text": [
      "Berikut Ini adalah Data setelah dicleaning :\n"
     ]
    },
    {
     "data": {
      "text/plain": [
       "fuelType              0\n",
       "rating                0\n",
       "renterTripsTaken      0\n",
       "reviewCount           0\n",
       "location.city         0\n",
       "location.country      0\n",
       "location.latitude     0\n",
       "location.longitude    0\n",
       "location.state        0\n",
       "owner.id              0\n",
       "rate.daily            0\n",
       "vehicle.make          0\n",
       "vehicle.model         0\n",
       "vehicle.type          0\n",
       "vehicle.year          0\n",
       "dtype: int64"
      ]
     },
     "execution_count": 64,
     "metadata": {},
     "output_type": "execute_result"
    }
   ],
   "source": [
    "print(\"Berikut Ini adalah Data setelah dicleaning :\")\n",
    "df.isna().sum()"
   ]
  },
  {
   "cell_type": "code",
   "execution_count": 65,
   "id": "d53d8349",
   "metadata": {},
   "outputs": [
    {
     "data": {
      "text/html": [
       "<div>\n",
       "<style scoped>\n",
       "    .dataframe tbody tr th:only-of-type {\n",
       "        vertical-align: middle;\n",
       "    }\n",
       "\n",
       "    .dataframe tbody tr th {\n",
       "        vertical-align: top;\n",
       "    }\n",
       "\n",
       "    .dataframe thead th {\n",
       "        text-align: right;\n",
       "    }\n",
       "</style>\n",
       "<table border=\"1\" class=\"dataframe\">\n",
       "  <thead>\n",
       "    <tr style=\"text-align: right;\">\n",
       "      <th></th>\n",
       "      <th>fuelType</th>\n",
       "      <th>rating</th>\n",
       "      <th>renterTripsTaken</th>\n",
       "      <th>reviewCount</th>\n",
       "      <th>location.city</th>\n",
       "      <th>location.country</th>\n",
       "      <th>location.latitude</th>\n",
       "      <th>location.longitude</th>\n",
       "      <th>location.state</th>\n",
       "      <th>owner.id</th>\n",
       "      <th>rate.daily</th>\n",
       "      <th>vehicle.make</th>\n",
       "      <th>vehicle.model</th>\n",
       "      <th>vehicle.type</th>\n",
       "      <th>vehicle.year</th>\n",
       "    </tr>\n",
       "  </thead>\n",
       "  <tbody>\n",
       "    <tr>\n",
       "      <th>5</th>\n",
       "      <td>GASOLINE</td>\n",
       "      <td>5.00</td>\n",
       "      <td>13</td>\n",
       "      <td>12</td>\n",
       "      <td>Albuquerque</td>\n",
       "      <td>US</td>\n",
       "      <td>35.068834</td>\n",
       "      <td>-106.576111</td>\n",
       "      <td>NM</td>\n",
       "      <td>7815747</td>\n",
       "      <td>58</td>\n",
       "      <td>Mercedes-Benz</td>\n",
       "      <td>GL-Class</td>\n",
       "      <td>suv</td>\n",
       "      <td>2012</td>\n",
       "    </tr>\n",
       "    <tr>\n",
       "      <th>6</th>\n",
       "      <td>GASOLINE</td>\n",
       "      <td>4.42</td>\n",
       "      <td>13</td>\n",
       "      <td>12</td>\n",
       "      <td>Albuquerque</td>\n",
       "      <td>US</td>\n",
       "      <td>35.045552</td>\n",
       "      <td>-106.633815</td>\n",
       "      <td>NM</td>\n",
       "      <td>3112016</td>\n",
       "      <td>42</td>\n",
       "      <td>GMC</td>\n",
       "      <td>Yukon XL</td>\n",
       "      <td>suv</td>\n",
       "      <td>2005</td>\n",
       "    </tr>\n",
       "    <tr>\n",
       "      <th>7</th>\n",
       "      <td>GASOLINE</td>\n",
       "      <td>4.90</td>\n",
       "      <td>12</td>\n",
       "      <td>10</td>\n",
       "      <td>Albuquerque</td>\n",
       "      <td>US</td>\n",
       "      <td>35.186542</td>\n",
       "      <td>-106.686481</td>\n",
       "      <td>NM</td>\n",
       "      <td>9536762</td>\n",
       "      <td>117</td>\n",
       "      <td>Ford</td>\n",
       "      <td>Expedition</td>\n",
       "      <td>suv</td>\n",
       "      <td>2018</td>\n",
       "    </tr>\n",
       "    <tr>\n",
       "      <th>8</th>\n",
       "      <td>GASOLINE</td>\n",
       "      <td>5.00</td>\n",
       "      <td>1</td>\n",
       "      <td>1</td>\n",
       "      <td>Albuquerque</td>\n",
       "      <td>US</td>\n",
       "      <td>35.061213</td>\n",
       "      <td>-106.629406</td>\n",
       "      <td>NM</td>\n",
       "      <td>14893743</td>\n",
       "      <td>102</td>\n",
       "      <td>Ford</td>\n",
       "      <td>Focus RS</td>\n",
       "      <td>car</td>\n",
       "      <td>2016</td>\n",
       "    </tr>\n",
       "    <tr>\n",
       "      <th>9</th>\n",
       "      <td>GASOLINE</td>\n",
       "      <td>4.76</td>\n",
       "      <td>22</td>\n",
       "      <td>17</td>\n",
       "      <td>Albuquerque</td>\n",
       "      <td>US</td>\n",
       "      <td>35.115363</td>\n",
       "      <td>-106.556911</td>\n",
       "      <td>NM</td>\n",
       "      <td>11389136</td>\n",
       "      <td>49</td>\n",
       "      <td>Ford</td>\n",
       "      <td>EcoSport</td>\n",
       "      <td>suv</td>\n",
       "      <td>2018</td>\n",
       "    </tr>\n",
       "    <tr>\n",
       "      <th>...</th>\n",
       "      <td>...</td>\n",
       "      <td>...</td>\n",
       "      <td>...</td>\n",
       "      <td>...</td>\n",
       "      <td>...</td>\n",
       "      <td>...</td>\n",
       "      <td>...</td>\n",
       "      <td>...</td>\n",
       "      <td>...</td>\n",
       "      <td>...</td>\n",
       "      <td>...</td>\n",
       "      <td>...</td>\n",
       "      <td>...</td>\n",
       "      <td>...</td>\n",
       "      <td>...</td>\n",
       "    </tr>\n",
       "    <tr>\n",
       "      <th>75</th>\n",
       "      <td>GASOLINE</td>\n",
       "      <td>4.84</td>\n",
       "      <td>71</td>\n",
       "      <td>58</td>\n",
       "      <td>East Point</td>\n",
       "      <td>US</td>\n",
       "      <td>33.652323</td>\n",
       "      <td>-84.491513</td>\n",
       "      <td>GA</td>\n",
       "      <td>7697843</td>\n",
       "      <td>29</td>\n",
       "      <td>smart</td>\n",
       "      <td>fortwo</td>\n",
       "      <td>car</td>\n",
       "      <td>2015</td>\n",
       "    </tr>\n",
       "    <tr>\n",
       "      <th>76</th>\n",
       "      <td>GASOLINE</td>\n",
       "      <td>5.00</td>\n",
       "      <td>17</td>\n",
       "      <td>16</td>\n",
       "      <td>Decatur</td>\n",
       "      <td>US</td>\n",
       "      <td>33.753970</td>\n",
       "      <td>-84.234782</td>\n",
       "      <td>GA</td>\n",
       "      <td>15117491</td>\n",
       "      <td>78</td>\n",
       "      <td>BMW</td>\n",
       "      <td>Z4</td>\n",
       "      <td>car</td>\n",
       "      <td>2008</td>\n",
       "    </tr>\n",
       "    <tr>\n",
       "      <th>77</th>\n",
       "      <td>GASOLINE</td>\n",
       "      <td>4.89</td>\n",
       "      <td>9</td>\n",
       "      <td>9</td>\n",
       "      <td>Atlanta</td>\n",
       "      <td>US</td>\n",
       "      <td>33.926688</td>\n",
       "      <td>-84.343004</td>\n",
       "      <td>GA</td>\n",
       "      <td>511103</td>\n",
       "      <td>102</td>\n",
       "      <td>Chevrolet</td>\n",
       "      <td>Camaro</td>\n",
       "      <td>car</td>\n",
       "      <td>2018</td>\n",
       "    </tr>\n",
       "    <tr>\n",
       "      <th>78</th>\n",
       "      <td>GASOLINE</td>\n",
       "      <td>4.93</td>\n",
       "      <td>19</td>\n",
       "      <td>15</td>\n",
       "      <td>Atlanta</td>\n",
       "      <td>US</td>\n",
       "      <td>33.810233</td>\n",
       "      <td>-84.453160</td>\n",
       "      <td>GA</td>\n",
       "      <td>2052844</td>\n",
       "      <td>85</td>\n",
       "      <td>Land Rover</td>\n",
       "      <td>Range Rover Evoque</td>\n",
       "      <td>suv</td>\n",
       "      <td>2015</td>\n",
       "    </tr>\n",
       "    <tr>\n",
       "      <th>79</th>\n",
       "      <td>GASOLINE</td>\n",
       "      <td>5.00</td>\n",
       "      <td>2</td>\n",
       "      <td>2</td>\n",
       "      <td>Atlanta</td>\n",
       "      <td>US</td>\n",
       "      <td>33.852298</td>\n",
       "      <td>-84.367605</td>\n",
       "      <td>GA</td>\n",
       "      <td>5513653</td>\n",
       "      <td>98</td>\n",
       "      <td>BMW</td>\n",
       "      <td>X4</td>\n",
       "      <td>suv</td>\n",
       "      <td>2018</td>\n",
       "    </tr>\n",
       "  </tbody>\n",
       "</table>\n",
       "<p>75 rows × 15 columns</p>\n",
       "</div>"
      ],
      "text/plain": [
       "    fuelType  rating  renterTripsTaken  reviewCount location.city  \\\n",
       "5   GASOLINE    5.00                13           12   Albuquerque   \n",
       "6   GASOLINE    4.42                13           12   Albuquerque   \n",
       "7   GASOLINE    4.90                12           10   Albuquerque   \n",
       "8   GASOLINE    5.00                 1            1   Albuquerque   \n",
       "9   GASOLINE    4.76                22           17   Albuquerque   \n",
       "..       ...     ...               ...          ...           ...   \n",
       "75  GASOLINE    4.84                71           58    East Point   \n",
       "76  GASOLINE    5.00                17           16       Decatur   \n",
       "77  GASOLINE    4.89                 9            9       Atlanta   \n",
       "78  GASOLINE    4.93                19           15       Atlanta   \n",
       "79  GASOLINE    5.00                 2            2       Atlanta   \n",
       "\n",
       "   location.country  location.latitude  location.longitude location.state  \\\n",
       "5                US          35.068834         -106.576111             NM   \n",
       "6                US          35.045552         -106.633815             NM   \n",
       "7                US          35.186542         -106.686481             NM   \n",
       "8                US          35.061213         -106.629406             NM   \n",
       "9                US          35.115363         -106.556911             NM   \n",
       "..              ...                ...                 ...            ...   \n",
       "75               US          33.652323          -84.491513             GA   \n",
       "76               US          33.753970          -84.234782             GA   \n",
       "77               US          33.926688          -84.343004             GA   \n",
       "78               US          33.810233          -84.453160             GA   \n",
       "79               US          33.852298          -84.367605             GA   \n",
       "\n",
       "    owner.id  rate.daily   vehicle.make       vehicle.model vehicle.type  \\\n",
       "5    7815747          58  Mercedes-Benz            GL-Class          suv   \n",
       "6    3112016          42            GMC            Yukon XL          suv   \n",
       "7    9536762         117           Ford          Expedition          suv   \n",
       "8   14893743         102           Ford            Focus RS          car   \n",
       "9   11389136          49           Ford            EcoSport          suv   \n",
       "..       ...         ...            ...                 ...          ...   \n",
       "75   7697843          29          smart              fortwo          car   \n",
       "76  15117491          78            BMW                  Z4          car   \n",
       "77    511103         102      Chevrolet              Camaro          car   \n",
       "78   2052844          85     Land Rover  Range Rover Evoque          suv   \n",
       "79   5513653          98            BMW                  X4          suv   \n",
       "\n",
       "    vehicle.year  \n",
       "5           2012  \n",
       "6           2005  \n",
       "7           2018  \n",
       "8           2016  \n",
       "9           2018  \n",
       "..           ...  \n",
       "75          2015  \n",
       "76          2008  \n",
       "77          2018  \n",
       "78          2015  \n",
       "79          2018  \n",
       "\n",
       "[75 rows x 15 columns]"
      ]
     },
     "execution_count": 65,
     "metadata": {},
     "output_type": "execute_result"
    }
   ],
   "source": [
    "df[5:80]"
   ]
  },
  {
   "cell_type": "code",
   "execution_count": 66,
   "id": "ddf0b834",
   "metadata": {},
   "outputs": [
    {
     "data": {
      "text/html": [
       "<div>\n",
       "<style scoped>\n",
       "    .dataframe tbody tr th:only-of-type {\n",
       "        vertical-align: middle;\n",
       "    }\n",
       "\n",
       "    .dataframe tbody tr th {\n",
       "        vertical-align: top;\n",
       "    }\n",
       "\n",
       "    .dataframe thead th {\n",
       "        text-align: right;\n",
       "    }\n",
       "</style>\n",
       "<table border=\"1\" class=\"dataframe\">\n",
       "  <thead>\n",
       "    <tr style=\"text-align: right;\">\n",
       "      <th></th>\n",
       "      <th>fuelType</th>\n",
       "      <th>rating</th>\n",
       "      <th>renterTripsTaken</th>\n",
       "      <th>reviewCount</th>\n",
       "      <th>location.city</th>\n",
       "      <th>location.country</th>\n",
       "      <th>location.latitude</th>\n",
       "      <th>location.longitude</th>\n",
       "      <th>location.state</th>\n",
       "      <th>owner.id</th>\n",
       "      <th>rate.daily</th>\n",
       "      <th>vehicle.make</th>\n",
       "      <th>vehicle.model</th>\n",
       "      <th>vehicle.type</th>\n",
       "      <th>vehicle.year</th>\n",
       "    </tr>\n",
       "  </thead>\n",
       "  <tbody>\n",
       "  </tbody>\n",
       "</table>\n",
       "</div>"
      ],
      "text/plain": [
       "Empty DataFrame\n",
       "Columns: [fuelType, rating, renterTripsTaken, reviewCount, location.city, location.country, location.latitude, location.longitude, location.state, owner.id, rate.daily, vehicle.make, vehicle.model, vehicle.type, vehicle.year]\n",
       "Index: []"
      ]
     },
     "execution_count": 66,
     "metadata": {},
     "output_type": "execute_result"
    }
   ],
   "source": [
    "df[df.isnull().any(axis=1)]"
   ]
  },
  {
   "cell_type": "markdown",
   "id": "e8be6f30",
   "metadata": {},
   "source": [
    "# Lakukan Data cleaning pada data dengan nilai duplikat. (Jika tidak ada nilai duplikat pada dataset, maka buatlah menjadi ada)"
   ]
  },
  {
   "cell_type": "code",
   "execution_count": 67,
   "id": "7c67f668",
   "metadata": {},
   "outputs": [
    {
     "data": {
      "text/plain": [
       "0       False\n",
       "1       False\n",
       "2       False\n",
       "3       False\n",
       "4       False\n",
       "        ...  \n",
       "5846    False\n",
       "5847    False\n",
       "5848    False\n",
       "5849    False\n",
       "5850    False\n",
       "Length: 5851, dtype: bool"
      ]
     },
     "execution_count": 67,
     "metadata": {},
     "output_type": "execute_result"
    }
   ],
   "source": [
    "df.duplicated()"
   ]
  },
  {
   "cell_type": "code",
   "execution_count": 68,
   "id": "40d0672a",
   "metadata": {},
   "outputs": [
    {
     "data": {
      "text/html": [
       "<div>\n",
       "<style scoped>\n",
       "    .dataframe tbody tr th:only-of-type {\n",
       "        vertical-align: middle;\n",
       "    }\n",
       "\n",
       "    .dataframe tbody tr th {\n",
       "        vertical-align: top;\n",
       "    }\n",
       "\n",
       "    .dataframe thead th {\n",
       "        text-align: right;\n",
       "    }\n",
       "</style>\n",
       "<table border=\"1\" class=\"dataframe\">\n",
       "  <thead>\n",
       "    <tr style=\"text-align: right;\">\n",
       "      <th></th>\n",
       "      <th>fuelType</th>\n",
       "      <th>rating</th>\n",
       "      <th>renterTripsTaken</th>\n",
       "      <th>reviewCount</th>\n",
       "      <th>location.city</th>\n",
       "      <th>location.country</th>\n",
       "      <th>location.latitude</th>\n",
       "      <th>location.longitude</th>\n",
       "      <th>location.state</th>\n",
       "      <th>owner.id</th>\n",
       "      <th>rate.daily</th>\n",
       "      <th>vehicle.make</th>\n",
       "      <th>vehicle.model</th>\n",
       "      <th>vehicle.type</th>\n",
       "      <th>vehicle.year</th>\n",
       "    </tr>\n",
       "  </thead>\n",
       "  <tbody>\n",
       "  </tbody>\n",
       "</table>\n",
       "</div>"
      ],
      "text/plain": [
       "Empty DataFrame\n",
       "Columns: [fuelType, rating, renterTripsTaken, reviewCount, location.city, location.country, location.latitude, location.longitude, location.state, owner.id, rate.daily, vehicle.make, vehicle.model, vehicle.type, vehicle.year]\n",
       "Index: []"
      ]
     },
     "execution_count": 68,
     "metadata": {},
     "output_type": "execute_result"
    }
   ],
   "source": [
    "df[df.duplicated()]"
   ]
  },
  {
   "cell_type": "code",
   "execution_count": 69,
   "id": "d8c91195",
   "metadata": {},
   "outputs": [],
   "source": [
    "df.drop_duplicates(inplace=True)"
   ]
  },
  {
   "cell_type": "code",
   "execution_count": 70,
   "id": "c4a7ede6",
   "metadata": {},
   "outputs": [
    {
     "data": {
      "text/html": [
       "<div>\n",
       "<style scoped>\n",
       "    .dataframe tbody tr th:only-of-type {\n",
       "        vertical-align: middle;\n",
       "    }\n",
       "\n",
       "    .dataframe tbody tr th {\n",
       "        vertical-align: top;\n",
       "    }\n",
       "\n",
       "    .dataframe thead th {\n",
       "        text-align: right;\n",
       "    }\n",
       "</style>\n",
       "<table border=\"1\" class=\"dataframe\">\n",
       "  <thead>\n",
       "    <tr style=\"text-align: right;\">\n",
       "      <th></th>\n",
       "      <th>fuelType</th>\n",
       "      <th>rating</th>\n",
       "      <th>renterTripsTaken</th>\n",
       "      <th>reviewCount</th>\n",
       "      <th>location.city</th>\n",
       "      <th>location.country</th>\n",
       "      <th>location.latitude</th>\n",
       "      <th>location.longitude</th>\n",
       "      <th>location.state</th>\n",
       "      <th>owner.id</th>\n",
       "      <th>rate.daily</th>\n",
       "      <th>vehicle.make</th>\n",
       "      <th>vehicle.model</th>\n",
       "      <th>vehicle.type</th>\n",
       "      <th>vehicle.year</th>\n",
       "    </tr>\n",
       "  </thead>\n",
       "  <tbody>\n",
       "  </tbody>\n",
       "</table>\n",
       "</div>"
      ],
      "text/plain": [
       "Empty DataFrame\n",
       "Columns: [fuelType, rating, renterTripsTaken, reviewCount, location.city, location.country, location.latitude, location.longitude, location.state, owner.id, rate.daily, vehicle.make, vehicle.model, vehicle.type, vehicle.year]\n",
       "Index: []"
      ]
     },
     "execution_count": 70,
     "metadata": {},
     "output_type": "execute_result"
    }
   ],
   "source": [
    "df[df.duplicated()]"
   ]
  },
  {
   "cell_type": "code",
   "execution_count": 71,
   "id": "58c097ba",
   "metadata": {},
   "outputs": [
    {
     "data": {
      "text/plain": [
       "0"
      ]
     },
     "execution_count": 71,
     "metadata": {},
     "output_type": "execute_result"
    }
   ],
   "source": [
    "df.duplicated().sum()"
   ]
  },
  {
   "cell_type": "code",
   "execution_count": 72,
   "id": "1983b636",
   "metadata": {},
   "outputs": [
    {
     "data": {
      "text/plain": [
       "False"
      ]
     },
     "execution_count": 72,
     "metadata": {},
     "output_type": "execute_result"
    }
   ],
   "source": [
    "df.duplicated().any()"
   ]
  },
  {
   "cell_type": "markdown",
   "id": "824c9776",
   "metadata": {},
   "source": [
    "# Ganti tipe data salah satu attribute angka"
   ]
  },
  {
   "cell_type": "code",
   "execution_count": 73,
   "id": "39c87c2f",
   "metadata": {},
   "outputs": [
    {
     "data": {
      "text/plain": [
       "fuelType               object\n",
       "rating                float64\n",
       "renterTripsTaken        int64\n",
       "reviewCount             int64\n",
       "location.city          object\n",
       "location.country       object\n",
       "location.latitude     float64\n",
       "location.longitude    float64\n",
       "location.state         object\n",
       "owner.id                int64\n",
       "rate.daily              int64\n",
       "vehicle.make           object\n",
       "vehicle.model          object\n",
       "vehicle.type           object\n",
       "vehicle.year            int64\n",
       "dtype: object"
      ]
     },
     "execution_count": 73,
     "metadata": {},
     "output_type": "execute_result"
    }
   ],
   "source": [
    "df.dtypes"
   ]
  },
  {
   "cell_type": "code",
   "execution_count": 74,
   "id": "c22f651f",
   "metadata": {},
   "outputs": [],
   "source": [
    "encoder = OrdinalEncoder()\n",
    "df['vehicleyearEncoded'] = encoder.fit_transform(df[['vehicle.year']])"
   ]
  },
  {
   "cell_type": "code",
   "execution_count": 75,
   "id": "bc51b602",
   "metadata": {},
   "outputs": [
    {
     "data": {
      "text/html": [
       "<div>\n",
       "<style scoped>\n",
       "    .dataframe tbody tr th:only-of-type {\n",
       "        vertical-align: middle;\n",
       "    }\n",
       "\n",
       "    .dataframe tbody tr th {\n",
       "        vertical-align: top;\n",
       "    }\n",
       "\n",
       "    .dataframe thead th {\n",
       "        text-align: right;\n",
       "    }\n",
       "</style>\n",
       "<table border=\"1\" class=\"dataframe\">\n",
       "  <thead>\n",
       "    <tr style=\"text-align: right;\">\n",
       "      <th></th>\n",
       "      <th>fuelType</th>\n",
       "      <th>rating</th>\n",
       "      <th>renterTripsTaken</th>\n",
       "      <th>reviewCount</th>\n",
       "      <th>location.city</th>\n",
       "      <th>location.country</th>\n",
       "      <th>location.latitude</th>\n",
       "      <th>location.longitude</th>\n",
       "      <th>location.state</th>\n",
       "      <th>owner.id</th>\n",
       "      <th>rate.daily</th>\n",
       "      <th>vehicle.make</th>\n",
       "      <th>vehicle.model</th>\n",
       "      <th>vehicle.type</th>\n",
       "      <th>vehicle.year</th>\n",
       "      <th>vehicleyearEncoded</th>\n",
       "    </tr>\n",
       "  </thead>\n",
       "  <tbody>\n",
       "    <tr>\n",
       "      <th>0</th>\n",
       "      <td>ELECTRIC</td>\n",
       "      <td>5.00</td>\n",
       "      <td>13</td>\n",
       "      <td>12</td>\n",
       "      <td>Seattle</td>\n",
       "      <td>US</td>\n",
       "      <td>47.449107</td>\n",
       "      <td>-122.308841</td>\n",
       "      <td>WA</td>\n",
       "      <td>12847615</td>\n",
       "      <td>135</td>\n",
       "      <td>Tesla</td>\n",
       "      <td>Model X</td>\n",
       "      <td>suv</td>\n",
       "      <td>2019</td>\n",
       "      <td>32.0</td>\n",
       "    </tr>\n",
       "    <tr>\n",
       "      <th>1</th>\n",
       "      <td>ELECTRIC</td>\n",
       "      <td>5.00</td>\n",
       "      <td>2</td>\n",
       "      <td>1</td>\n",
       "      <td>Tijeras</td>\n",
       "      <td>US</td>\n",
       "      <td>35.111060</td>\n",
       "      <td>-106.276551</td>\n",
       "      <td>NM</td>\n",
       "      <td>15621242</td>\n",
       "      <td>190</td>\n",
       "      <td>Tesla</td>\n",
       "      <td>Model X</td>\n",
       "      <td>suv</td>\n",
       "      <td>2018</td>\n",
       "      <td>31.0</td>\n",
       "    </tr>\n",
       "    <tr>\n",
       "      <th>2</th>\n",
       "      <td>HYBRID</td>\n",
       "      <td>4.92</td>\n",
       "      <td>28</td>\n",
       "      <td>24</td>\n",
       "      <td>Albuquerque</td>\n",
       "      <td>US</td>\n",
       "      <td>35.127163</td>\n",
       "      <td>-106.566681</td>\n",
       "      <td>NM</td>\n",
       "      <td>10199256</td>\n",
       "      <td>35</td>\n",
       "      <td>Toyota</td>\n",
       "      <td>Prius</td>\n",
       "      <td>car</td>\n",
       "      <td>2012</td>\n",
       "      <td>25.0</td>\n",
       "    </tr>\n",
       "    <tr>\n",
       "      <th>3</th>\n",
       "      <td>GASOLINE</td>\n",
       "      <td>5.00</td>\n",
       "      <td>21</td>\n",
       "      <td>20</td>\n",
       "      <td>Albuquerque</td>\n",
       "      <td>US</td>\n",
       "      <td>35.149726</td>\n",
       "      <td>-106.711425</td>\n",
       "      <td>NM</td>\n",
       "      <td>9365496</td>\n",
       "      <td>75</td>\n",
       "      <td>Ford</td>\n",
       "      <td>Mustang</td>\n",
       "      <td>car</td>\n",
       "      <td>2018</td>\n",
       "      <td>31.0</td>\n",
       "    </tr>\n",
       "    <tr>\n",
       "      <th>4</th>\n",
       "      <td>GASOLINE</td>\n",
       "      <td>5.00</td>\n",
       "      <td>3</td>\n",
       "      <td>1</td>\n",
       "      <td>Albuquerque</td>\n",
       "      <td>US</td>\n",
       "      <td>35.208659</td>\n",
       "      <td>-106.601008</td>\n",
       "      <td>NM</td>\n",
       "      <td>3553565</td>\n",
       "      <td>47</td>\n",
       "      <td>Chrysler</td>\n",
       "      <td>Sebring</td>\n",
       "      <td>car</td>\n",
       "      <td>2010</td>\n",
       "      <td>23.0</td>\n",
       "    </tr>\n",
       "  </tbody>\n",
       "</table>\n",
       "</div>"
      ],
      "text/plain": [
       "   fuelType  rating  renterTripsTaken  reviewCount location.city  \\\n",
       "0  ELECTRIC    5.00                13           12       Seattle   \n",
       "1  ELECTRIC    5.00                 2            1       Tijeras   \n",
       "2    HYBRID    4.92                28           24   Albuquerque   \n",
       "3  GASOLINE    5.00                21           20   Albuquerque   \n",
       "4  GASOLINE    5.00                 3            1   Albuquerque   \n",
       "\n",
       "  location.country  location.latitude  location.longitude location.state  \\\n",
       "0               US          47.449107         -122.308841             WA   \n",
       "1               US          35.111060         -106.276551             NM   \n",
       "2               US          35.127163         -106.566681             NM   \n",
       "3               US          35.149726         -106.711425             NM   \n",
       "4               US          35.208659         -106.601008             NM   \n",
       "\n",
       "   owner.id  rate.daily vehicle.make vehicle.model vehicle.type  vehicle.year  \\\n",
       "0  12847615         135        Tesla       Model X          suv          2019   \n",
       "1  15621242         190        Tesla       Model X          suv          2018   \n",
       "2  10199256          35       Toyota         Prius          car          2012   \n",
       "3   9365496          75         Ford       Mustang          car          2018   \n",
       "4   3553565          47     Chrysler       Sebring          car          2010   \n",
       "\n",
       "   vehicleyearEncoded  \n",
       "0                32.0  \n",
       "1                31.0  \n",
       "2                25.0  \n",
       "3                31.0  \n",
       "4                23.0  "
      ]
     },
     "execution_count": 75,
     "metadata": {},
     "output_type": "execute_result"
    }
   ],
   "source": [
    "df.head()"
   ]
  },
  {
   "cell_type": "code",
   "execution_count": 76,
   "id": "21524d43",
   "metadata": {},
   "outputs": [
    {
     "data": {
      "text/plain": [
       "fuelType               object\n",
       "rating                float64\n",
       "renterTripsTaken        int64\n",
       "reviewCount             int64\n",
       "location.city          object\n",
       "location.country       object\n",
       "location.latitude     float64\n",
       "location.longitude    float64\n",
       "location.state         object\n",
       "owner.id                int64\n",
       "rate.daily              int64\n",
       "vehicle.make           object\n",
       "vehicle.model          object\n",
       "vehicle.type           object\n",
       "vehicle.year            int64\n",
       "vehicleyearEncoded    float64\n",
       "dtype: object"
      ]
     },
     "execution_count": 76,
     "metadata": {},
     "output_type": "execute_result"
    }
   ],
   "source": [
    "df.dtypes"
   ]
  },
  {
   "cell_type": "markdown",
   "id": "eed3826f",
   "metadata": {},
   "source": [
    "# Lakukan one hot encoding pada dataset yang kalian miliki."
   ]
  },
  {
   "cell_type": "code",
   "execution_count": 77,
   "id": "ec0e1712",
   "metadata": {},
   "outputs": [],
   "source": [
    "encoderHot = OneHotEncoder(sparse=False)"
   ]
  },
  {
   "cell_type": "code",
   "execution_count": 78,
   "id": "f6bd84f8",
   "metadata": {},
   "outputs": [],
   "source": [
    "yearEnc = encoder.fit_transform(df[['vehicle.year']])"
   ]
  },
  {
   "cell_type": "code",
   "execution_count": 79,
   "id": "24e64788",
   "metadata": {},
   "outputs": [],
   "source": [
    "yearHotEnc = pd.DataFrame(yearEnc)"
   ]
  },
  {
   "cell_type": "code",
   "execution_count": 80,
   "id": "879b61f9",
   "metadata": {},
   "outputs": [],
   "source": [
    "df = df.join(yearHotEnc)"
   ]
  },
  {
   "cell_type": "code",
   "execution_count": 81,
   "id": "02b051b3",
   "metadata": {
    "scrolled": true
   },
   "outputs": [
    {
     "data": {
      "text/html": [
       "<div>\n",
       "<style scoped>\n",
       "    .dataframe tbody tr th:only-of-type {\n",
       "        vertical-align: middle;\n",
       "    }\n",
       "\n",
       "    .dataframe tbody tr th {\n",
       "        vertical-align: top;\n",
       "    }\n",
       "\n",
       "    .dataframe thead th {\n",
       "        text-align: right;\n",
       "    }\n",
       "</style>\n",
       "<table border=\"1\" class=\"dataframe\">\n",
       "  <thead>\n",
       "    <tr style=\"text-align: right;\">\n",
       "      <th></th>\n",
       "      <th>fuelType</th>\n",
       "      <th>rating</th>\n",
       "      <th>renterTripsTaken</th>\n",
       "      <th>reviewCount</th>\n",
       "      <th>location.city</th>\n",
       "      <th>location.country</th>\n",
       "      <th>location.latitude</th>\n",
       "      <th>location.longitude</th>\n",
       "      <th>location.state</th>\n",
       "      <th>owner.id</th>\n",
       "      <th>rate.daily</th>\n",
       "      <th>vehicle.make</th>\n",
       "      <th>vehicle.model</th>\n",
       "      <th>vehicle.type</th>\n",
       "      <th>vehicle.year</th>\n",
       "      <th>vehicleyearEncoded</th>\n",
       "      <th>0</th>\n",
       "    </tr>\n",
       "  </thead>\n",
       "  <tbody>\n",
       "    <tr>\n",
       "      <th>0</th>\n",
       "      <td>ELECTRIC</td>\n",
       "      <td>5.00</td>\n",
       "      <td>13</td>\n",
       "      <td>12</td>\n",
       "      <td>Seattle</td>\n",
       "      <td>US</td>\n",
       "      <td>47.449107</td>\n",
       "      <td>-122.308841</td>\n",
       "      <td>WA</td>\n",
       "      <td>12847615</td>\n",
       "      <td>135</td>\n",
       "      <td>Tesla</td>\n",
       "      <td>Model X</td>\n",
       "      <td>suv</td>\n",
       "      <td>2019</td>\n",
       "      <td>32.0</td>\n",
       "      <td>32.0</td>\n",
       "    </tr>\n",
       "    <tr>\n",
       "      <th>1</th>\n",
       "      <td>ELECTRIC</td>\n",
       "      <td>5.00</td>\n",
       "      <td>2</td>\n",
       "      <td>1</td>\n",
       "      <td>Tijeras</td>\n",
       "      <td>US</td>\n",
       "      <td>35.111060</td>\n",
       "      <td>-106.276551</td>\n",
       "      <td>NM</td>\n",
       "      <td>15621242</td>\n",
       "      <td>190</td>\n",
       "      <td>Tesla</td>\n",
       "      <td>Model X</td>\n",
       "      <td>suv</td>\n",
       "      <td>2018</td>\n",
       "      <td>31.0</td>\n",
       "      <td>31.0</td>\n",
       "    </tr>\n",
       "    <tr>\n",
       "      <th>2</th>\n",
       "      <td>HYBRID</td>\n",
       "      <td>4.92</td>\n",
       "      <td>28</td>\n",
       "      <td>24</td>\n",
       "      <td>Albuquerque</td>\n",
       "      <td>US</td>\n",
       "      <td>35.127163</td>\n",
       "      <td>-106.566681</td>\n",
       "      <td>NM</td>\n",
       "      <td>10199256</td>\n",
       "      <td>35</td>\n",
       "      <td>Toyota</td>\n",
       "      <td>Prius</td>\n",
       "      <td>car</td>\n",
       "      <td>2012</td>\n",
       "      <td>25.0</td>\n",
       "      <td>25.0</td>\n",
       "    </tr>\n",
       "    <tr>\n",
       "      <th>3</th>\n",
       "      <td>GASOLINE</td>\n",
       "      <td>5.00</td>\n",
       "      <td>21</td>\n",
       "      <td>20</td>\n",
       "      <td>Albuquerque</td>\n",
       "      <td>US</td>\n",
       "      <td>35.149726</td>\n",
       "      <td>-106.711425</td>\n",
       "      <td>NM</td>\n",
       "      <td>9365496</td>\n",
       "      <td>75</td>\n",
       "      <td>Ford</td>\n",
       "      <td>Mustang</td>\n",
       "      <td>car</td>\n",
       "      <td>2018</td>\n",
       "      <td>31.0</td>\n",
       "      <td>31.0</td>\n",
       "    </tr>\n",
       "    <tr>\n",
       "      <th>4</th>\n",
       "      <td>GASOLINE</td>\n",
       "      <td>5.00</td>\n",
       "      <td>3</td>\n",
       "      <td>1</td>\n",
       "      <td>Albuquerque</td>\n",
       "      <td>US</td>\n",
       "      <td>35.208659</td>\n",
       "      <td>-106.601008</td>\n",
       "      <td>NM</td>\n",
       "      <td>3553565</td>\n",
       "      <td>47</td>\n",
       "      <td>Chrysler</td>\n",
       "      <td>Sebring</td>\n",
       "      <td>car</td>\n",
       "      <td>2010</td>\n",
       "      <td>23.0</td>\n",
       "      <td>23.0</td>\n",
       "    </tr>\n",
       "  </tbody>\n",
       "</table>\n",
       "</div>"
      ],
      "text/plain": [
       "   fuelType  rating  renterTripsTaken  reviewCount location.city  \\\n",
       "0  ELECTRIC    5.00                13           12       Seattle   \n",
       "1  ELECTRIC    5.00                 2            1       Tijeras   \n",
       "2    HYBRID    4.92                28           24   Albuquerque   \n",
       "3  GASOLINE    5.00                21           20   Albuquerque   \n",
       "4  GASOLINE    5.00                 3            1   Albuquerque   \n",
       "\n",
       "  location.country  location.latitude  location.longitude location.state  \\\n",
       "0               US          47.449107         -122.308841             WA   \n",
       "1               US          35.111060         -106.276551             NM   \n",
       "2               US          35.127163         -106.566681             NM   \n",
       "3               US          35.149726         -106.711425             NM   \n",
       "4               US          35.208659         -106.601008             NM   \n",
       "\n",
       "   owner.id  rate.daily vehicle.make vehicle.model vehicle.type  vehicle.year  \\\n",
       "0  12847615         135        Tesla       Model X          suv          2019   \n",
       "1  15621242         190        Tesla       Model X          suv          2018   \n",
       "2  10199256          35       Toyota         Prius          car          2012   \n",
       "3   9365496          75         Ford       Mustang          car          2018   \n",
       "4   3553565          47     Chrysler       Sebring          car          2010   \n",
       "\n",
       "   vehicleyearEncoded     0  \n",
       "0                32.0  32.0  \n",
       "1                31.0  31.0  \n",
       "2                25.0  25.0  \n",
       "3                31.0  31.0  \n",
       "4                23.0  23.0  "
      ]
     },
     "execution_count": 81,
     "metadata": {},
     "output_type": "execute_result"
    }
   ],
   "source": [
    "df.head()"
   ]
  },
  {
   "cell_type": "markdown",
   "id": "b94d9446",
   "metadata": {},
   "source": [
    "# POSTTEST 5"
   ]
  },
  {
   "cell_type": "markdown",
   "id": "08d217c8",
   "metadata": {},
   "source": [
    "## Melihat Data Set Bernilai Null"
   ]
  },
  {
   "cell_type": "code",
   "execution_count": 82,
   "id": "f94e052a",
   "metadata": {},
   "outputs": [
    {
     "data": {
      "text/plain": [
       "fuelType              0\n",
       "rating                0\n",
       "renterTripsTaken      0\n",
       "reviewCount           0\n",
       "location.city         0\n",
       "location.country      0\n",
       "location.latitude     0\n",
       "location.longitude    0\n",
       "location.state        0\n",
       "owner.id              0\n",
       "rate.daily            0\n",
       "vehicle.make          0\n",
       "vehicle.model         0\n",
       "vehicle.type          0\n",
       "vehicle.year          0\n",
       "vehicleyearEncoded    0\n",
       "0                     0\n",
       "dtype: int64"
      ]
     },
     "execution_count": 82,
     "metadata": {},
     "output_type": "execute_result"
    }
   ],
   "source": [
    "df.isna().sum()"
   ]
  },
  {
   "cell_type": "markdown",
   "id": "59a60af5",
   "metadata": {},
   "source": [
    "## DATA SPLIT"
   ]
  },
  {
   "cell_type": "code",
   "execution_count": 83,
   "id": "87a8176a",
   "metadata": {},
   "outputs": [],
   "source": [
    "from sklearn.model_selection import train_test_split"
   ]
  },
  {
   "cell_type": "code",
   "execution_count": 84,
   "id": "03df4bb0",
   "metadata": {},
   "outputs": [
    {
     "name": "stdout",
     "output_type": "stream",
     "text": [
      "<class 'pandas.core.frame.DataFrame'>\n",
      "Int64Index: 5851 entries, 0 to 5850\n",
      "Data columns (total 17 columns):\n",
      " #   Column              Non-Null Count  Dtype  \n",
      "---  ------              --------------  -----  \n",
      " 0   fuelType            5851 non-null   object \n",
      " 1   rating              5851 non-null   float64\n",
      " 2   renterTripsTaken    5851 non-null   int64  \n",
      " 3   reviewCount         5851 non-null   int64  \n",
      " 4   location.city       5851 non-null   object \n",
      " 5   location.country    5851 non-null   object \n",
      " 6   location.latitude   5851 non-null   float64\n",
      " 7   location.longitude  5851 non-null   float64\n",
      " 8   location.state      5851 non-null   object \n",
      " 9   owner.id            5851 non-null   int64  \n",
      " 10  rate.daily          5851 non-null   int64  \n",
      " 11  vehicle.make        5851 non-null   object \n",
      " 12  vehicle.model       5851 non-null   object \n",
      " 13  vehicle.type        5851 non-null   object \n",
      " 14  vehicle.year        5851 non-null   int64  \n",
      " 15  vehicleyearEncoded  5851 non-null   float64\n",
      " 16  0                   5851 non-null   float64\n",
      "dtypes: float64(5), int64(5), object(7)\n",
      "memory usage: 951.8+ KB\n"
     ]
    }
   ],
   "source": [
    "df.info()"
   ]
  },
  {
   "cell_type": "code",
   "execution_count": 85,
   "id": "6b088611",
   "metadata": {},
   "outputs": [],
   "source": [
    "X = df[['rating','vehicleyearEncoded']]\n",
    "y = df[['fuelType']]"
   ]
  },
  {
   "cell_type": "code",
   "execution_count": 86,
   "id": "8fe0c94e",
   "metadata": {},
   "outputs": [],
   "source": [
    "X_train, X_test, y_train, y_test = train_test_split(X,y,test_size=0.3)"
   ]
  },
  {
   "cell_type": "markdown",
   "id": "2b6ce532",
   "metadata": {},
   "source": [
    "## DATA NORMALISASI"
   ]
  },
  {
   "cell_type": "code",
   "execution_count": 87,
   "id": "125b5185",
   "metadata": {},
   "outputs": [],
   "source": [
    "from sklearn.preprocessing import StandardScaler"
   ]
  },
  {
   "cell_type": "code",
   "execution_count": 88,
   "id": "63986359",
   "metadata": {},
   "outputs": [],
   "source": [
    "standardScaler = StandardScaler()\n",
    "X_train_std = standardScaler.fit_transform(X_train)\n",
    "X_test_std = standardScaler.transform(X_test)"
   ]
  },
  {
   "cell_type": "markdown",
   "id": "b0194232",
   "metadata": {},
   "source": [
    "## ALGORITMA K-Nears Neigbour"
   ]
  },
  {
   "cell_type": "code",
   "execution_count": 89,
   "id": "9cc998c3",
   "metadata": {},
   "outputs": [],
   "source": [
    "from sklearn.neighbors import KNeighborsClassifier"
   ]
  },
  {
   "cell_type": "code",
   "execution_count": 90,
   "id": "abe132ac",
   "metadata": {},
   "outputs": [
    {
     "name": "stderr",
     "output_type": "stream",
     "text": [
      "C:\\Users\\ASUS\\anaconda3\\lib\\site-packages\\sklearn\\neighbors\\_classification.py:198: DataConversionWarning: A column-vector y was passed when a 1d array was expected. Please change the shape of y to (n_samples,), for example using ravel().\n",
      "  return self._fit(X, y)\n"
     ]
    }
   ],
   "source": [
    "Knn = KNeighborsClassifier()\n",
    "Knn.fit(X_train_std,y_train)\n",
    "\n",
    "knn_pred = Knn.predict(X_test_std)\n",
    "akurasi_KNN = accuracy_score(y_test, knn_pred)"
   ]
  },
  {
   "cell_type": "code",
   "execution_count": 91,
   "id": "7cf0e29b",
   "metadata": {},
   "outputs": [
    {
     "name": "stdout",
     "output_type": "stream",
     "text": [
      "Akurasi dari algoritma KNN : 0.82\n"
     ]
    }
   ],
   "source": [
    "print(\"Akurasi dari algoritma KNN :\", round(akurasi_KNN,2))"
   ]
  },
  {
   "cell_type": "markdown",
   "id": "b29be4a7",
   "metadata": {},
   "source": [
    "## ALGORITMA SVM"
   ]
  },
  {
   "cell_type": "code",
   "execution_count": 92,
   "id": "5eb222dc",
   "metadata": {},
   "outputs": [],
   "source": [
    "from sklearn.svm import SVC"
   ]
  },
  {
   "cell_type": "code",
   "execution_count": 93,
   "id": "2851f62c",
   "metadata": {},
   "outputs": [
    {
     "name": "stderr",
     "output_type": "stream",
     "text": [
      "C:\\Users\\ASUS\\anaconda3\\lib\\site-packages\\sklearn\\utils\\validation.py:993: DataConversionWarning: A column-vector y was passed when a 1d array was expected. Please change the shape of y to (n_samples, ), for example using ravel().\n",
      "  y = column_or_1d(y, warn=True)\n"
     ]
    }
   ],
   "source": [
    "svm = SVC()\n",
    "svm.fit(X_train_std,y_train)\n",
    "\n",
    "svm_pred = svm.predict(X_test_std)\n",
    "akurasi_svm = accuracy_score(y_test, svm_pred)"
   ]
  },
  {
   "cell_type": "code",
   "execution_count": 94,
   "id": "5f42628c",
   "metadata": {},
   "outputs": [
    {
     "name": "stdout",
     "output_type": "stream",
     "text": [
      "Akurasi algoritma SVM : 0.84\n"
     ]
    }
   ],
   "source": [
    "print(\"Akurasi algoritma SVM :\", round(akurasi_svm,2))"
   ]
  },
  {
   "cell_type": "markdown",
   "id": "c7e1b7a4",
   "metadata": {},
   "source": [
    "## Hyperparameter (Algoritma KNN)"
   ]
  },
  {
   "cell_type": "code",
   "execution_count": 98,
   "id": "46484f15",
   "metadata": {},
   "outputs": [],
   "source": [
    "from sklearn.model_selection import GridSearchCV"
   ]
  },
  {
   "cell_type": "code",
   "execution_count": 99,
   "id": "756789bd",
   "metadata": {},
   "outputs": [
    {
     "name": "stderr",
     "output_type": "stream",
     "text": [
      "C:\\Users\\ASUS\\anaconda3\\lib\\site-packages\\sklearn\\model_selection\\_validation.py:372: FitFailedWarning: \n",
      "3 fits failed out of a total of 15.\n",
      "The score on these train-test partitions for these parameters will be set to nan.\n",
      "If these failures are not expected, you can try to debug them by setting error_score='raise'.\n",
      "\n",
      "Below are more details about the failures:\n",
      "--------------------------------------------------------------------------------\n",
      "3 fits failed with the following error:\n",
      "Traceback (most recent call last):\n",
      "  File \"C:\\Users\\ASUS\\anaconda3\\lib\\site-packages\\sklearn\\model_selection\\_validation.py\", line 680, in _fit_and_score\n",
      "    estimator.fit(X_train, y_train, **fit_params)\n",
      "  File \"C:\\Users\\ASUS\\anaconda3\\lib\\site-packages\\sklearn\\neighbors\\_classification.py\", line 198, in fit\n",
      "    return self._fit(X, y)\n",
      "  File \"C:\\Users\\ASUS\\anaconda3\\lib\\site-packages\\sklearn\\neighbors\\_base.py\", line 569, in _fit\n",
      "    raise ValueError(\"Expected n_neighbors > 0. Got %d\" % self.n_neighbors)\n",
      "ValueError: Expected n_neighbors > 0. Got 0\n",
      "\n",
      "  warnings.warn(some_fits_failed_message, FitFailedWarning)\n",
      "C:\\Users\\ASUS\\anaconda3\\lib\\site-packages\\sklearn\\model_selection\\_search.py:969: UserWarning: One or more of the test scores are non-finite: [       nan 0.68156288 0.67667888 0.76654457 0.76336996]\n",
      "  warnings.warn(\n",
      "C:\\Users\\ASUS\\anaconda3\\lib\\site-packages\\sklearn\\neighbors\\_classification.py:198: DataConversionWarning: A column-vector y was passed when a 1d array was expected. Please change the shape of y to (n_samples,), for example using ravel().\n",
      "  return self._fit(X, y)\n"
     ]
    }
   ],
   "source": [
    "modelKNN = KNeighborsClassifier()\n",
    "\n",
    "param_grid = { \"n_neighbors\" :[i for i in range(0,5)]}\n",
    "\n",
    "gsv = GridSearchCV(estimator=modelKNN, param_grid=param_grid, scoring='accuracy', cv=3, n_jobs=-1)\n",
    "\n",
    "gs = gsv.fit(X_train, y_train)"
   ]
  },
  {
   "cell_type": "code",
   "execution_count": 100,
   "id": "347c3f5b",
   "metadata": {},
   "outputs": [
    {
     "name": "stdout",
     "output_type": "stream",
     "text": [
      "{'n_neighbors': 3}\n"
     ]
    }
   ],
   "source": [
    "# mencari parameter terbaik\n",
    "print(gs.best_params_)"
   ]
  },
  {
   "cell_type": "code",
   "execution_count": 101,
   "id": "3f856942",
   "metadata": {},
   "outputs": [
    {
     "name": "stdout",
     "output_type": "stream",
     "text": [
      "Akurasi Training Set :  81.9 %\n"
     ]
    }
   ],
   "source": [
    "print(\"Akurasi Training Set : \",round(gs.score(X_train,y_train)*100,1),\"%\")"
   ]
  }
 ],
 "metadata": {
  "kernelspec": {
   "display_name": "Python 3 (ipykernel)",
   "language": "python",
   "name": "python3"
  },
  "language_info": {
   "codemirror_mode": {
    "name": "ipython",
    "version": 3
   },
   "file_extension": ".py",
   "mimetype": "text/x-python",
   "name": "python",
   "nbconvert_exporter": "python",
   "pygments_lexer": "ipython3",
   "version": "3.9.12"
  }
 },
 "nbformat": 4,
 "nbformat_minor": 5
}
