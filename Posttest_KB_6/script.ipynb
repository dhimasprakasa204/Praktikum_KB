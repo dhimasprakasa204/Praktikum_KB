{
 "cells": [
  {
   "cell_type": "markdown",
   "id": "405cc193",
   "metadata": {},
   "source": [
    "# DHIMAS PRAKASA HENJO\n",
    "# 2009106015\n",
    "# POSTTEST 6 KB"
   ]
  },
  {
   "cell_type": "code",
   "execution_count": 40,
   "id": "8447a5ed",
   "metadata": {},
   "outputs": [],
   "source": [
    "import numpy as np\n",
    "import pandas as pd\n",
    "import matplotlib.pyplot as plt\n",
    "import seaborn as sns\n",
    "from sklearn.cluster import KMeans"
   ]
  },
  {
   "cell_type": "code",
   "execution_count": 41,
   "id": "72b67afa",
   "metadata": {},
   "outputs": [],
   "source": [
    "df = pd.read_csv('CarRentalDataBaru.csv')"
   ]
  },
  {
   "cell_type": "code",
   "execution_count": 42,
   "id": "3b9b8273",
   "metadata": {},
   "outputs": [
    {
     "data": {
      "text/html": [
       "<div>\n",
       "<style scoped>\n",
       "    .dataframe tbody tr th:only-of-type {\n",
       "        vertical-align: middle;\n",
       "    }\n",
       "\n",
       "    .dataframe tbody tr th {\n",
       "        vertical-align: top;\n",
       "    }\n",
       "\n",
       "    .dataframe thead th {\n",
       "        text-align: right;\n",
       "    }\n",
       "</style>\n",
       "<table border=\"1\" class=\"dataframe\">\n",
       "  <thead>\n",
       "    <tr style=\"text-align: right;\">\n",
       "      <th></th>\n",
       "      <th>Unnamed: 0</th>\n",
       "      <th>fuelType</th>\n",
       "      <th>rating</th>\n",
       "      <th>renterTripsTaken</th>\n",
       "      <th>reviewCount</th>\n",
       "      <th>location.city</th>\n",
       "      <th>location.country</th>\n",
       "      <th>location.latitude</th>\n",
       "      <th>location.longitude</th>\n",
       "      <th>location.state</th>\n",
       "      <th>owner.id</th>\n",
       "      <th>rate.daily</th>\n",
       "      <th>vehicle.make</th>\n",
       "      <th>vehicle.model</th>\n",
       "      <th>vehicle.type</th>\n",
       "      <th>vehicle.year</th>\n",
       "      <th>vehicleyearEncoded</th>\n",
       "      <th>0</th>\n",
       "    </tr>\n",
       "  </thead>\n",
       "  <tbody>\n",
       "    <tr>\n",
       "      <th>0</th>\n",
       "      <td>0</td>\n",
       "      <td>ELECTRIC</td>\n",
       "      <td>5.00</td>\n",
       "      <td>13</td>\n",
       "      <td>12</td>\n",
       "      <td>Seattle</td>\n",
       "      <td>US</td>\n",
       "      <td>47.449107</td>\n",
       "      <td>-122.308841</td>\n",
       "      <td>WA</td>\n",
       "      <td>12847615</td>\n",
       "      <td>135</td>\n",
       "      <td>Tesla</td>\n",
       "      <td>Model X</td>\n",
       "      <td>suv</td>\n",
       "      <td>2019</td>\n",
       "      <td>32.0</td>\n",
       "      <td>32.0</td>\n",
       "    </tr>\n",
       "    <tr>\n",
       "      <th>1</th>\n",
       "      <td>1</td>\n",
       "      <td>ELECTRIC</td>\n",
       "      <td>5.00</td>\n",
       "      <td>2</td>\n",
       "      <td>1</td>\n",
       "      <td>Tijeras</td>\n",
       "      <td>US</td>\n",
       "      <td>35.111060</td>\n",
       "      <td>-106.276551</td>\n",
       "      <td>NM</td>\n",
       "      <td>15621242</td>\n",
       "      <td>190</td>\n",
       "      <td>Tesla</td>\n",
       "      <td>Model X</td>\n",
       "      <td>suv</td>\n",
       "      <td>2018</td>\n",
       "      <td>31.0</td>\n",
       "      <td>31.0</td>\n",
       "    </tr>\n",
       "    <tr>\n",
       "      <th>2</th>\n",
       "      <td>2</td>\n",
       "      <td>HYBRID</td>\n",
       "      <td>4.92</td>\n",
       "      <td>28</td>\n",
       "      <td>24</td>\n",
       "      <td>Albuquerque</td>\n",
       "      <td>US</td>\n",
       "      <td>35.127163</td>\n",
       "      <td>-106.566681</td>\n",
       "      <td>NM</td>\n",
       "      <td>10199256</td>\n",
       "      <td>35</td>\n",
       "      <td>Toyota</td>\n",
       "      <td>Prius</td>\n",
       "      <td>car</td>\n",
       "      <td>2012</td>\n",
       "      <td>25.0</td>\n",
       "      <td>25.0</td>\n",
       "    </tr>\n",
       "    <tr>\n",
       "      <th>3</th>\n",
       "      <td>3</td>\n",
       "      <td>GASOLINE</td>\n",
       "      <td>5.00</td>\n",
       "      <td>21</td>\n",
       "      <td>20</td>\n",
       "      <td>Albuquerque</td>\n",
       "      <td>US</td>\n",
       "      <td>35.149726</td>\n",
       "      <td>-106.711425</td>\n",
       "      <td>NM</td>\n",
       "      <td>9365496</td>\n",
       "      <td>75</td>\n",
       "      <td>Ford</td>\n",
       "      <td>Mustang</td>\n",
       "      <td>car</td>\n",
       "      <td>2018</td>\n",
       "      <td>31.0</td>\n",
       "      <td>31.0</td>\n",
       "    </tr>\n",
       "    <tr>\n",
       "      <th>4</th>\n",
       "      <td>4</td>\n",
       "      <td>GASOLINE</td>\n",
       "      <td>5.00</td>\n",
       "      <td>3</td>\n",
       "      <td>1</td>\n",
       "      <td>Albuquerque</td>\n",
       "      <td>US</td>\n",
       "      <td>35.208659</td>\n",
       "      <td>-106.601008</td>\n",
       "      <td>NM</td>\n",
       "      <td>3553565</td>\n",
       "      <td>47</td>\n",
       "      <td>Chrysler</td>\n",
       "      <td>Sebring</td>\n",
       "      <td>car</td>\n",
       "      <td>2010</td>\n",
       "      <td>23.0</td>\n",
       "      <td>23.0</td>\n",
       "    </tr>\n",
       "  </tbody>\n",
       "</table>\n",
       "</div>"
      ],
      "text/plain": [
       "   Unnamed: 0  fuelType  rating  renterTripsTaken  reviewCount location.city  \\\n",
       "0           0  ELECTRIC    5.00                13           12       Seattle   \n",
       "1           1  ELECTRIC    5.00                 2            1       Tijeras   \n",
       "2           2    HYBRID    4.92                28           24   Albuquerque   \n",
       "3           3  GASOLINE    5.00                21           20   Albuquerque   \n",
       "4           4  GASOLINE    5.00                 3            1   Albuquerque   \n",
       "\n",
       "  location.country  location.latitude  location.longitude location.state  \\\n",
       "0               US          47.449107         -122.308841             WA   \n",
       "1               US          35.111060         -106.276551             NM   \n",
       "2               US          35.127163         -106.566681             NM   \n",
       "3               US          35.149726         -106.711425             NM   \n",
       "4               US          35.208659         -106.601008             NM   \n",
       "\n",
       "   owner.id  rate.daily vehicle.make vehicle.model vehicle.type  vehicle.year  \\\n",
       "0  12847615         135        Tesla       Model X          suv          2019   \n",
       "1  15621242         190        Tesla       Model X          suv          2018   \n",
       "2  10199256          35       Toyota         Prius          car          2012   \n",
       "3   9365496          75         Ford       Mustang          car          2018   \n",
       "4   3553565          47     Chrysler       Sebring          car          2010   \n",
       "\n",
       "   vehicleyearEncoded     0  \n",
       "0                32.0  32.0  \n",
       "1                31.0  31.0  \n",
       "2                25.0  25.0  \n",
       "3                31.0  31.0  \n",
       "4                23.0  23.0  "
      ]
     },
     "execution_count": 42,
     "metadata": {},
     "output_type": "execute_result"
    }
   ],
   "source": [
    "df.head()"
   ]
  },
  {
   "cell_type": "code",
   "execution_count": 43,
   "id": "5b916f90",
   "metadata": {},
   "outputs": [
    {
     "name": "stdout",
     "output_type": "stream",
     "text": [
      "<class 'pandas.core.frame.DataFrame'>\n",
      "RangeIndex: 5851 entries, 0 to 5850\n",
      "Data columns (total 18 columns):\n",
      " #   Column              Non-Null Count  Dtype  \n",
      "---  ------              --------------  -----  \n",
      " 0   Unnamed: 0          5851 non-null   int64  \n",
      " 1   fuelType            5851 non-null   object \n",
      " 2   rating              5851 non-null   float64\n",
      " 3   renterTripsTaken    5851 non-null   int64  \n",
      " 4   reviewCount         5851 non-null   int64  \n",
      " 5   location.city       5851 non-null   object \n",
      " 6   location.country    5851 non-null   object \n",
      " 7   location.latitude   5851 non-null   float64\n",
      " 8   location.longitude  5851 non-null   float64\n",
      " 9   location.state      5851 non-null   object \n",
      " 10  owner.id            5851 non-null   int64  \n",
      " 11  rate.daily          5851 non-null   int64  \n",
      " 12  vehicle.make        5851 non-null   object \n",
      " 13  vehicle.model       5851 non-null   object \n",
      " 14  vehicle.type        5851 non-null   object \n",
      " 15  vehicle.year        5851 non-null   int64  \n",
      " 16  vehicleyearEncoded  5851 non-null   float64\n",
      " 17  0                   5851 non-null   float64\n",
      "dtypes: float64(5), int64(6), object(7)\n",
      "memory usage: 822.9+ KB\n"
     ]
    }
   ],
   "source": [
    "df.info()"
   ]
  },
  {
   "cell_type": "code",
   "execution_count": 44,
   "id": "f9f24545",
   "metadata": {},
   "outputs": [
    {
     "name": "stdout",
     "output_type": "stream",
     "text": [
      "Pengecekan nilai NULL\n"
     ]
    },
    {
     "data": {
      "text/plain": [
       "Unnamed: 0            0\n",
       "fuelType              0\n",
       "rating                0\n",
       "renterTripsTaken      0\n",
       "reviewCount           0\n",
       "location.city         0\n",
       "location.country      0\n",
       "location.latitude     0\n",
       "location.longitude    0\n",
       "location.state        0\n",
       "owner.id              0\n",
       "rate.daily            0\n",
       "vehicle.make          0\n",
       "vehicle.model         0\n",
       "vehicle.type          0\n",
       "vehicle.year          0\n",
       "vehicleyearEncoded    0\n",
       "0                     0\n",
       "dtype: int64"
      ]
     },
     "execution_count": 44,
     "metadata": {},
     "output_type": "execute_result"
    }
   ],
   "source": [
    "print(\"Pengecekan nilai NULL\")\n",
    "df.isna().sum()"
   ]
  },
  {
   "cell_type": "markdown",
   "id": "de38adcb",
   "metadata": {},
   "source": [
    "## Algoritma K-Means Clustering"
   ]
  },
  {
   "cell_type": "code",
   "execution_count": 45,
   "id": "3a32e8cb",
   "metadata": {},
   "outputs": [],
   "source": [
    "X = df.iloc[:,[3,4]].values"
   ]
  },
  {
   "cell_type": "code",
   "execution_count": 46,
   "id": "ac3ad676",
   "metadata": {},
   "outputs": [
    {
     "name": "stdout",
     "output_type": "stream",
     "text": [
      "[0 0 2 ... 0 0 0]\n"
     ]
    }
   ],
   "source": [
    "kmeans = KMeans(n_clusters=5, init='k-means++', random_state=0)\n",
    "\n",
    "Y = kmeans.fit_predict(X)\n",
    "\n",
    "print(Y)"
   ]
  },
  {
   "cell_type": "markdown",
   "id": "dc16575d",
   "metadata": {},
   "source": [
    "## Visualisasi Data"
   ]
  },
  {
   "cell_type": "code",
   "execution_count": 56,
   "id": "64892d12",
   "metadata": {},
   "outputs": [
    {
     "data": {
      "image/png": "[encoded data removed]",
      "text/plain": [
       "<Figure size 864x864 with 1 Axes>"
      ]
     },
     "metadata": {
      "needs_background": "light"
     },
     "output_type": "display_data"
    }
   ],
   "source": [
    "plt.figure(figsize=(12,12))\n",
    "plt.scatter(X[Y==0,0], X[Y==0,1], s=100, c='violet', label='Cluster 1')\n",
    "plt.scatter(X[Y==1,0], X[Y==1,1], s=100, c='green', label='Cluster 2')\n",
    "plt.scatter(X[Y==2,0], X[Y==2,1], s=100, c='yellow', label='Cluster 3')\n",
    "plt.scatter(X[Y==3,0], X[Y==3,1], s=100, c='blue', label='Cluster 4')\n",
    "plt.scatter(X[Y==4,0], X[Y==4,1], s=100, c='red', label='Cluster 5')\n",
    "\n",
    "plt.scatter(kmeans.cluster_centers_[:,0], kmeans.cluster_centers_[:,1], s=100, c='lightgrey', label='Centroids')\n",
    "\n",
    "plt.show()"
   ]
  },
  {
   "cell_type": "code",
   "execution_count": 49,
   "id": "ae588ee1",
   "metadata": {
    "scrolled": false
   },
   "outputs": [
    {
     "data": {
      "image/png": "[encoded data removed]",
      "text/plain": [
       "<Figure size 720x720 with 1 Axes>"
      ]
     },
     "metadata": {
      "needs_background": "light"
     },
     "output_type": "display_data"
    }
   ],
   "source": [
    "ks = range(1, 6)\n",
    "inertias = []\n",
    "for k in ks:\n",
    "    model = KMeans(n_clusters=k)\n",
    "    model.fit(X)\n",
    "    inertias.append(model.inertia_)\n",
    "\n",
    "    \n",
    "plt.figure(figsize=(10,10))\n",
    "plt.plot(ks, inertias, '-o')\n",
    "plt.xlabel('Jumlah Cluster, k')\n",
    "plt.ylabel('inertia')\n",
    "plt.xticks(ks)\n",
    "plt.show()"
   ]
  },
  {
   "cell_type": "code",
   "execution_count": null,
   "id": "8a76889d",
   "metadata": {},
   "outputs": [],
   "source": []
  }
 ],
 "metadata": {
  "kernelspec": {
   "display_name": "Python 3 (ipykernel)",
   "language": "python",
   "name": "python3"
  },
  "language_info": {
   "codemirror_mode": {
    "name": "ipython",
    "version": 3
   },
   "file_extension": ".py",
   "mimetype": "text/x-python",
   "name": "python",
   "nbconvert_exporter": "python",
   "pygments_lexer": "ipython3",
   "version": "3.9.12"
  }
 },
 "nbformat": 4,
 "nbformat_minor": 5
}
