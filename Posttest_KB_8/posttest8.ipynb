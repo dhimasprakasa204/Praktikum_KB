{
 "cells": [
  {
   "cell_type": "markdown",
   "id": "3d8d812a",
   "metadata": {},
   "source": [
    "# DHIMAS PRAKASA HENJO\n",
    "# 2009106015\n",
    "# POSTTEST 8 KB"
   ]
  },
  {
   "cell_type": "markdown",
   "id": "1169a69d",
   "metadata": {},
   "source": [
    "## Import Library"
   ]
  },
  {
   "cell_type": "code",
   "execution_count": 2,
   "id": "cf4ca525",
   "metadata": {},
   "outputs": [],
   "source": [
    "import os\n",
    "import tensorflow as tf\n",
    "from tensorflow import keras\n",
    "from tensorflow.keras import layers,optimizers,datasets\n",
    "import matplotlib.pyplot as plt\n",
    "import tensorflow_datasets as tfds"
   ]
  },
  {
   "cell_type": "code",
   "execution_count": 3,
   "id": "5bb7dde3",
   "metadata": {},
   "outputs": [],
   "source": [
    "model = tf.keras.Sequential()\n",
    "model.add(tf.keras.layers.Dense(16, activation='relu'))\n",
    "model.add(tf.keras.layers.Dense(32, activation='relu'))\n",
    "model.add(tf.keras.layers.Dense(10, activation='softmax'))"
   ]
  },
  {
   "cell_type": "code",
   "execution_count": 5,
   "id": "0612a35c",
   "metadata": {},
   "outputs": [
    {
     "name": "stdout",
     "output_type": "stream",
     "text": [
      "Model: \"sequential_2\"\n",
      "_________________________________________________________________\n",
      " Layer (type)                Output Shape              Param #   \n",
      "=================================================================\n",
      " dense_8 (Dense)             (None, 10, 10, 84)        168       \n",
      "                                                                 \n",
      " dense_9 (Dense)             (None, 10, 10, 52)        4420      \n",
      "                                                                 \n",
      " dense_10 (Dense)            (None, 10, 10, 52)        2756      \n",
      "                                                                 \n",
      " dense_11 (Dense)            (None, 10, 10, 52)        2756      \n",
      "                                                                 \n",
      " dense_12 (Dense)            (None, 10, 10, 30)        1590      \n",
      "                                                                 \n",
      "=================================================================\n",
      "Total params: 11,690\n",
      "Trainable params: 11,690\n",
      "Non-trainable params: 0\n",
      "_________________________________________________________________\n"
     ]
    }
   ],
   "source": [
    "model = tf.keras.Sequential([\n",
    "tf.keras.layers.Dense(units=84, input_shape=[10,10,1]),\n",
    "tf.keras.layers.Dense(52, activation='relu'),\n",
    "tf.keras.layers.Dense(52, kernel_initializer=tf.keras.initializers.he_normal),\n",
    "tf.keras.layers.Dense(52, kernel_regularizer=tf.keras.regularizers.l2(0.01)),\n",
    "tf.keras.layers.Dense(30, activation='softmax')\n",
    "])\n",
    "model.summary()"
   ]
  },
  {
   "cell_type": "code",
   "execution_count": 6,
   "id": "059c7fc4",
   "metadata": {},
   "outputs": [
    {
     "name": "stdout",
     "output_type": "stream",
     "text": [
      "Epoch 1/50\n",
      "1/1 [==============================] - 0s 309ms/step - loss: 170.9552\n",
      "Epoch 2/50\n",
      "1/1 [==============================] - 0s 6ms/step - loss: 79.1796\n",
      "Epoch 3/50\n",
      "1/1 [==============================] - 0s 4ms/step - loss: 36.7026\n",
      "Epoch 4/50\n",
      "1/1 [==============================] - 0s 5ms/step - loss: 17.0427\n",
      "Epoch 5/50\n",
      "1/1 [==============================] - 0s 5ms/step - loss: 7.9430\n",
      "Epoch 6/50\n",
      "1/1 [==============================] - 0s 5ms/step - loss: 3.7310\n",
      "Epoch 7/50\n",
      "1/1 [==============================] - 0s 4ms/step - loss: 1.7812\n",
      "Epoch 8/50\n",
      "1/1 [==============================] - 0s 6ms/step - loss: 0.8784\n",
      "Epoch 9/50\n",
      "1/1 [==============================] - 0s 6ms/step - loss: 0.4601\n",
      "Epoch 10/50\n",
      "1/1 [==============================] - 0s 9ms/step - loss: 0.2661\n",
      "Epoch 11/50\n",
      "1/1 [==============================] - 0s 6ms/step - loss: 0.1760\n",
      "Epoch 12/50\n",
      "1/1 [==============================] - 0s 6ms/step - loss: 0.1339\n",
      "Epoch 13/50\n",
      "1/1 [==============================] - 0s 6ms/step - loss: 0.1140\n",
      "Epoch 14/50\n",
      "1/1 [==============================] - 0s 7ms/step - loss: 0.1044\n",
      "Epoch 15/50\n",
      "1/1 [==============================] - 0s 4ms/step - loss: 0.0996\n",
      "Epoch 16/50\n",
      "1/1 [==============================] - 0s 8ms/step - loss: 0.0970\n",
      "Epoch 17/50\n",
      "1/1 [==============================] - 0s 5ms/step - loss: 0.0954\n",
      "Epoch 18/50\n",
      "1/1 [==============================] - 0s 5ms/step - loss: 0.0943\n",
      "Epoch 19/50\n",
      "1/1 [==============================] - 0s 6ms/step - loss: 0.0934\n",
      "Epoch 20/50\n",
      "1/1 [==============================] - 0s 9ms/step - loss: 0.0927\n",
      "Epoch 21/50\n",
      "1/1 [==============================] - 0s 5ms/step - loss: 0.0920\n",
      "Epoch 22/50\n",
      "1/1 [==============================] - 0s 5ms/step - loss: 0.0913\n",
      "Epoch 23/50\n",
      "1/1 [==============================] - 0s 5ms/step - loss: 0.0906\n",
      "Epoch 24/50\n",
      "1/1 [==============================] - 0s 6ms/step - loss: 0.0899\n",
      "Epoch 25/50\n",
      "1/1 [==============================] - 0s 7ms/step - loss: 0.0893\n",
      "Epoch 26/50\n",
      "1/1 [==============================] - 0s 5ms/step - loss: 0.0886\n",
      "Epoch 27/50\n",
      "1/1 [==============================] - 0s 4ms/step - loss: 0.0880\n",
      "Epoch 28/50\n",
      "1/1 [==============================] - 0s 4ms/step - loss: 0.0873\n",
      "Epoch 29/50\n",
      "1/1 [==============================] - 0s 5ms/step - loss: 0.0867\n",
      "Epoch 30/50\n",
      "1/1 [==============================] - 0s 6ms/step - loss: 0.0861\n",
      "Epoch 31/50\n",
      "1/1 [==============================] - 0s 6ms/step - loss: 0.0855\n",
      "Epoch 32/50\n",
      "1/1 [==============================] - 0s 3ms/step - loss: 0.0848\n",
      "Epoch 33/50\n",
      "1/1 [==============================] - 0s 5ms/step - loss: 0.0842\n",
      "Epoch 34/50\n",
      "1/1 [==============================] - 0s 5ms/step - loss: 0.0836\n",
      "Epoch 35/50\n",
      "1/1 [==============================] - 0s 6ms/step - loss: 0.0830\n",
      "Epoch 36/50\n",
      "1/1 [==============================] - 0s 4ms/step - loss: 0.0824\n",
      "Epoch 37/50\n",
      "1/1 [==============================] - 0s 6ms/step - loss: 0.0818\n",
      "Epoch 38/50\n",
      "1/1 [==============================] - 0s 5ms/step - loss: 0.0812\n",
      "Epoch 39/50\n",
      "1/1 [==============================] - 0s 5ms/step - loss: 0.0806\n",
      "Epoch 40/50\n",
      "1/1 [==============================] - 0s 5ms/step - loss: 0.0800\n",
      "Epoch 41/50\n",
      "1/1 [==============================] - 0s 5ms/step - loss: 0.0794\n",
      "Epoch 42/50\n",
      "1/1 [==============================] - 0s 6ms/step - loss: 0.0788\n",
      "Epoch 43/50\n",
      "1/1 [==============================] - 0s 5ms/step - loss: 0.0783\n",
      "Epoch 44/50\n",
      "1/1 [==============================] - 0s 6ms/step - loss: 0.0777\n",
      "Epoch 45/50\n",
      "1/1 [==============================] - 0s 9ms/step - loss: 0.0771\n",
      "Epoch 46/50\n",
      "1/1 [==============================] - 0s 5ms/step - loss: 0.0766\n",
      "Epoch 47/50\n",
      "1/1 [==============================] - 0s 4ms/step - loss: 0.0760\n",
      "Epoch 48/50\n",
      "1/1 [==============================] - 0s 4ms/step - loss: 0.0755\n",
      "Epoch 49/50\n",
      "1/1 [==============================] - 0s 5ms/step - loss: 0.0749\n",
      "Epoch 50/50\n",
      "1/1 [==============================] - 0s 5ms/step - loss: 0.0744\n",
      "1/1 [==============================] - 0s 93ms/step\n",
      "[[11.751327]\n",
      " [13.606648]\n",
      " [15.46197 ]]\n"
     ]
    }
   ],
   "source": [
    "import numpy as np\n",
    "\n",
    "#membuat variable x sebagai atribute dan y sebagai label\n",
    "x = np.array([1.0, 2.0, 3.0, 4.0, 5.0, 6.0], dtype=float)\n",
    "y = np.array([2.0, 4.0, 6.0, 8.0, 10.0, 12.0], dtype=float)\n",
    "\n",
    "#membuat sequential dimana hanya 1 dense layer yang dibutuhkan\n",
    "model = tf.keras.Sequential([\n",
    "tf.keras.layers.Dense(units=1, input_shape=[1])\n",
    "])\n",
    "\n",
    "#model di kompilasi dengan optimizer sgd dan loss MSE\n",
    "model.compile(optimizer='sgd', loss='mse')\n",
    "\n",
    "#model di training dengan epoch yang dapat kita atur\n",
    "model.fit(x, y, epochs=50)\n",
    "\n",
    "#mencoba prediksi y dengan model yang telah dilatih\n",
    "y_pred = model.predict([6.0, 7.0, 8.0])\n",
    "print(y_pred)"
   ]
  },
  {
   "cell_type": "markdown",
   "id": "ee084822",
   "metadata": {},
   "source": [
    "## Prediksi Data Yang Baru"
   ]
  },
  {
   "cell_type": "code",
   "execution_count": 7,
   "id": "271b5109",
   "metadata": {},
   "outputs": [
    {
     "name": "stdout",
     "output_type": "stream",
     "text": [
      "1/1 [==============================] - 0s 21ms/step\n",
      "[[11.751327]\n",
      " [13.606648]\n",
      " [15.46197 ]]\n"
     ]
    }
   ],
   "source": [
    "new_data = np.array([6.0,7.0,8.0])\n",
    "y_pred = model.predict(new_data)\n",
    "print(y_pred)"
   ]
  },
  {
   "cell_type": "markdown",
   "id": "dcdc525a",
   "metadata": {},
   "source": [
    "## Klasifikasi dengan Mnist Datasets"
   ]
  },
  {
   "cell_type": "code",
   "execution_count": 9,
   "id": "1b4ea502",
   "metadata": {},
   "outputs": [
    {
     "name": "stdout",
     "output_type": "stream",
     "text": [
      "Downloading data from https://storage.googleapis.com/tensorflow/tf-keras-datasets/mnist.npz\n",
      "11490434/11490434 [==============================] - 6s 0us/step\n"
     ]
    }
   ],
   "source": [
    "# Load Dataset\n",
    "\n",
    "(x_train_raw,y_train_raw), (x_test_raw,y_test_raw) = datasets.mnist.load_data()"
   ]
  },
  {
   "cell_type": "markdown",
   "id": "e671fccc",
   "metadata": {},
   "source": [
    "## Melakukan Encoding pada Label"
   ]
  },
  {
   "cell_type": "code",
   "execution_count": 11,
   "id": "91776d8f",
   "metadata": {},
   "outputs": [
    {
     "name": "stdout",
     "output_type": "stream",
     "text": [
      "[0. 0. 0. 0. 0. 0. 0. 1. 0. 0.]\n"
     ]
    }
   ],
   "source": [
    "num_class = 10 \n",
    "\n",
    "#One Hot Encoding\n",
    "y_train = keras.utils.to_categorical(y_train_raw,num_class)\n",
    "y_test = keras.utils.to_categorical(y_test_raw,num_class)\n",
    "\n",
    "print(y_test[0])"
   ]
  },
  {
   "cell_type": "markdown",
   "id": "13d29775",
   "metadata": {},
   "source": [
    "## Menampilkan Gambar dari mnist dataset"
   ]
  },
  {
   "cell_type": "code",
   "execution_count": 12,
   "id": "faae48d1",
   "metadata": {},
   "outputs": [
    {
     "data": {
      "image/png": "[encoded data removed]",
      "text/plain": [
       "<Figure size 432x288 with 9 Axes>"
      ]
     },
     "metadata": {
      "needs_background": "light"
     },
     "output_type": "display_data"
    }
   ],
   "source": [
    "plt.figure\n",
    "for i in range(9):\n",
    "  plt.subplot(3,3,i+1)\n",
    "  plt.imshow(x_train_raw[i])\n",
    "  plt.axis('off')\n",
    "\n",
    "plt.show()"
   ]
  },
  {
   "cell_type": "markdown",
   "id": "b23723b1",
   "metadata": {},
   "source": [
    "## Reshape Gambar"
   ]
  },
  {
   "cell_type": "code",
   "execution_count": 14,
   "id": "6b043775",
   "metadata": {},
   "outputs": [],
   "source": [
    "x_train = x_train_raw.reshape(60000,784)\n",
    "x_test = x_test_raw.reshape(10000,784)"
   ]
  },
  {
   "cell_type": "markdown",
   "id": "71392d5a",
   "metadata": {},
   "source": [
    "## Normalisasi "
   ]
  },
  {
   "cell_type": "code",
   "execution_count": 15,
   "id": "0f4b9e8b",
   "metadata": {},
   "outputs": [],
   "source": [
    "x_train = x_train.astype('float64')/255"
   ]
  },
  {
   "cell_type": "markdown",
   "id": "f6d720c4",
   "metadata": {},
   "source": [
    "## Buat Model Mnist Datasets"
   ]
  },
  {
   "cell_type": "code",
   "execution_count": 16,
   "id": "b541651f",
   "metadata": {},
   "outputs": [],
   "source": [
    "model_mnist = keras.Sequential()"
   ]
  },
  {
   "cell_type": "code",
   "execution_count": 17,
   "id": "fcce5d56",
   "metadata": {},
   "outputs": [],
   "source": [
    "# Input Layer\n",
    "model_mnist.add(layers.Dense(512,activation='relu',input_dim=784))\n",
    "\n",
    "# Hidden Layer\n",
    "model_mnist.add(layers.Dense(256,activation='relu'))\n",
    "model_mnist.add(layers.Dense(128,activation='relu'))\n",
    "\n",
    "#Output Layer\n",
    "model_mnist.add(layers.Dense(10,activation='softmax'))"
   ]
  },
  {
   "cell_type": "code",
   "execution_count": 18,
   "id": "439badcf",
   "metadata": {},
   "outputs": [
    {
     "name": "stdout",
     "output_type": "stream",
     "text": [
      "Model: \"sequential_4\"\n",
      "_________________________________________________________________\n",
      " Layer (type)                Output Shape              Param #   \n",
      "=================================================================\n",
      " dense_14 (Dense)            (None, 512)               401920    \n",
      "                                                                 \n",
      " dense_15 (Dense)            (None, 256)               131328    \n",
      "                                                                 \n",
      " dense_16 (Dense)            (None, 128)               32896     \n",
      "                                                                 \n",
      " dense_17 (Dense)            (None, 10)                1290      \n",
      "                                                                 \n",
      "=================================================================\n",
      "Total params: 567,434\n",
      "Trainable params: 567,434\n",
      "Non-trainable params: 0\n",
      "_________________________________________________________________\n"
     ]
    }
   ],
   "source": [
    "model_mnist.summary()"
   ]
  },
  {
   "cell_type": "markdown",
   "id": "5ad2962d",
   "metadata": {},
   "source": [
    "## Compile Model"
   ]
  },
  {
   "cell_type": "code",
   "execution_count": 20,
   "id": "c0235426",
   "metadata": {},
   "outputs": [],
   "source": [
    "Optimizer = optimizers.Adam(learning_rate=0.0001)\n",
    "model_mnist.compile(loss=keras.losses.categorical_crossentropy,optimizer=Optimizer,\n",
    "                    metrics=['accuracy'])"
   ]
  },
  {
   "cell_type": "markdown",
   "id": "71afdaf1",
   "metadata": {},
   "source": [
    "## Training Model"
   ]
  },
  {
   "cell_type": "code",
   "execution_count": 22,
   "id": "961321ca",
   "metadata": {},
   "outputs": [
    {
     "name": "stdout",
     "output_type": "stream",
     "text": [
      "Epoch 1/15\n",
      "469/469 [==============================] - 3s 7ms/step - loss: 0.0331 - accuracy: 0.9911\n",
      "Epoch 2/15\n",
      "469/469 [==============================] - 4s 8ms/step - loss: 0.0285 - accuracy: 0.9926\n",
      "Epoch 3/15\n",
      "469/469 [==============================] - 3s 7ms/step - loss: 0.0250 - accuracy: 0.9937\n",
      "Epoch 4/15\n",
      "469/469 [==============================] - 3s 7ms/step - loss: 0.0207 - accuracy: 0.9952\n",
      "Epoch 5/15\n",
      "469/469 [==============================] - 3s 7ms/step - loss: 0.0175 - accuracy: 0.9960\n",
      "Epoch 6/15\n",
      "469/469 [==============================] - 3s 7ms/step - loss: 0.0147 - accuracy: 0.9969\n",
      "Epoch 7/15\n",
      "469/469 [==============================] - 3s 7ms/step - loss: 0.0123 - accuracy: 0.9974\n",
      "Epoch 8/15\n",
      "469/469 [==============================] - 3s 7ms/step - loss: 0.0107 - accuracy: 0.9978\n",
      "Epoch 9/15\n",
      "469/469 [==============================] - 3s 7ms/step - loss: 0.0087 - accuracy: 0.9986\n",
      "Epoch 10/15\n",
      "469/469 [==============================] - 3s 7ms/step - loss: 0.0071 - accuracy: 0.9988\n",
      "Epoch 11/15\n",
      "469/469 [==============================] - 3s 7ms/step - loss: 0.0062 - accuracy: 0.9992\n",
      "Epoch 12/15\n",
      "469/469 [==============================] - 3s 7ms/step - loss: 0.0052 - accuracy: 0.9992\n",
      "Epoch 13/15\n",
      "469/469 [==============================] - 3s 7ms/step - loss: 0.0039 - accuracy: 0.9996\n",
      "Epoch 14/15\n",
      "469/469 [==============================] - 3s 7ms/step - loss: 0.0031 - accuracy: 0.9997\n",
      "Epoch 15/15\n",
      "469/469 [==============================] - 3s 7ms/step - loss: 0.0028 - accuracy: 0.9997\n"
     ]
    },
    {
     "data": {
      "text/plain": [
       "<keras.callbacks.History at 0x2810027e6d0>"
      ]
     },
     "execution_count": 22,
     "metadata": {},
     "output_type": "execute_result"
    }
   ],
   "source": [
    "model_mnist.fit(x_train,y_train, epochs=15, batch_size=128)"
   ]
  },
  {
   "cell_type": "markdown",
   "id": "39310b6e",
   "metadata": {},
   "source": [
    "## Evaluate Model"
   ]
  },
  {
   "cell_type": "code",
   "execution_count": 23,
   "id": "115c3de9",
   "metadata": {},
   "outputs": [
    {
     "name": "stdout",
     "output_type": "stream",
     "text": [
      "313/313 [==============================] - 1s 2ms/step - loss: 17.1542 - accuracy: 0.9797\n",
      "Test Loss : 17.154159545898438\n",
      "Test Akurasi : 97.97%\n"
     ]
    }
   ],
   "source": [
    "score = model_mnist.evaluate(x_test,y_test, verbose=1)\n",
    "print(f'Test Loss : {score[0]}')\n",
    "print(f'Test Akurasi : {round(score[1] * 100,2)}%')"
   ]
  }
 ],
 "metadata": {
  "kernelspec": {
   "display_name": "Python 3 (ipykernel)",
   "language": "python",
   "name": "python3"
  },
  "language_info": {
   "codemirror_mode": {
    "name": "ipython",
    "version": 3
   },
   "file_extension": ".py",
   "mimetype": "text/x-python",
   "name": "python",
   "nbconvert_exporter": "python",
   "pygments_lexer": "ipython3",
   "version": "3.9.12"
  }
 },
 "nbformat": 4,
 "nbformat_minor": 5
}
